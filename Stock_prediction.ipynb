{
  "nbformat": 4,
  "nbformat_minor": 0,
  "metadata": {
    "colab": {
      "name": "Stock_prediction.ipynb",
      "provenance": []
    },
    "kernelspec": {
      "name": "python3",
      "display_name": "Python 3"
    },
    "language_info": {
      "name": "python"
    }
  },
  "cells": [
    {
      "cell_type": "code",
      "metadata": {
        "id": "bmrVqFVKfKH8"
      },
      "source": [
        "import pandas_datareader as pdr\n",
        "key=\"280d77d17655e235efabfe38b4945d1363b0386a\""
      ],
      "execution_count": 1,
      "outputs": []
    },
    {
      "cell_type": "code",
      "metadata": {
        "id": "I-n6py9IfMmN"
      },
      "source": [
        "df = pdr.get_data_tiingo('AAPL',api_key=key)"
      ],
      "execution_count": 2,
      "outputs": []
    },
    {
      "cell_type": "code",
      "metadata": {
        "id": "cJoDNEvRfoUQ"
      },
      "source": [
        "import pandas as pd"
      ],
      "execution_count": 3,
      "outputs": []
    },
    {
      "cell_type": "code",
      "metadata": {
        "id": "wz7RWCV-fvjZ"
      },
      "source": [
        "df.to_csv('apple.csv')"
      ],
      "execution_count": 4,
      "outputs": []
    },
    {
      "cell_type": "code",
      "metadata": {
        "colab": {
          "base_uri": "https://localhost:8080/",
          "height": 234
        },
        "id": "gRAYdVy7f0tw",
        "outputId": "95467cfa-eec0-47fa-d805-e6652615fa2b"
      },
      "source": [
        "df.head()"
      ],
      "execution_count": 5,
      "outputs": [
        {
          "output_type": "execute_result",
          "data": {
            "text/html": [
              "<div>\n",
              "<style scoped>\n",
              "    .dataframe tbody tr th:only-of-type {\n",
              "        vertical-align: middle;\n",
              "    }\n",
              "\n",
              "    .dataframe tbody tr th {\n",
              "        vertical-align: top;\n",
              "    }\n",
              "\n",
              "    .dataframe thead th {\n",
              "        text-align: right;\n",
              "    }\n",
              "</style>\n",
              "<table border=\"1\" class=\"dataframe\">\n",
              "  <thead>\n",
              "    <tr style=\"text-align: right;\">\n",
              "      <th></th>\n",
              "      <th></th>\n",
              "      <th>close</th>\n",
              "      <th>high</th>\n",
              "      <th>low</th>\n",
              "      <th>open</th>\n",
              "      <th>volume</th>\n",
              "      <th>adjClose</th>\n",
              "      <th>adjHigh</th>\n",
              "      <th>adjLow</th>\n",
              "      <th>adjOpen</th>\n",
              "      <th>adjVolume</th>\n",
              "      <th>divCash</th>\n",
              "      <th>splitFactor</th>\n",
              "    </tr>\n",
              "    <tr>\n",
              "      <th>symbol</th>\n",
              "      <th>date</th>\n",
              "      <th></th>\n",
              "      <th></th>\n",
              "      <th></th>\n",
              "      <th></th>\n",
              "      <th></th>\n",
              "      <th></th>\n",
              "      <th></th>\n",
              "      <th></th>\n",
              "      <th></th>\n",
              "      <th></th>\n",
              "      <th></th>\n",
              "      <th></th>\n",
              "    </tr>\n",
              "  </thead>\n",
              "  <tbody>\n",
              "    <tr>\n",
              "      <th rowspan=\"5\" valign=\"top\">AAPL</th>\n",
              "      <th>2016-06-30 00:00:00+00:00</th>\n",
              "      <td>95.60</td>\n",
              "      <td>95.770</td>\n",
              "      <td>94.30</td>\n",
              "      <td>94.44</td>\n",
              "      <td>35836356</td>\n",
              "      <td>22.323886</td>\n",
              "      <td>22.363583</td>\n",
              "      <td>22.020318</td>\n",
              "      <td>22.053010</td>\n",
              "      <td>143345424</td>\n",
              "      <td>0.0</td>\n",
              "      <td>1.0</td>\n",
              "    </tr>\n",
              "    <tr>\n",
              "      <th>2016-07-01 00:00:00+00:00</th>\n",
              "      <td>95.89</td>\n",
              "      <td>96.465</td>\n",
              "      <td>95.33</td>\n",
              "      <td>95.49</td>\n",
              "      <td>26026540</td>\n",
              "      <td>22.391605</td>\n",
              "      <td>22.525875</td>\n",
              "      <td>22.260837</td>\n",
              "      <td>22.298199</td>\n",
              "      <td>104106160</td>\n",
              "      <td>0.0</td>\n",
              "      <td>1.0</td>\n",
              "    </tr>\n",
              "    <tr>\n",
              "      <th>2016-07-05 00:00:00+00:00</th>\n",
              "      <td>94.99</td>\n",
              "      <td>95.400</td>\n",
              "      <td>94.46</td>\n",
              "      <td>95.39</td>\n",
              "      <td>27705210</td>\n",
              "      <td>22.181442</td>\n",
              "      <td>22.277183</td>\n",
              "      <td>22.057680</td>\n",
              "      <td>22.274848</td>\n",
              "      <td>110820840</td>\n",
              "      <td>0.0</td>\n",
              "      <td>1.0</td>\n",
              "    </tr>\n",
              "    <tr>\n",
              "      <th>2016-07-06 00:00:00+00:00</th>\n",
              "      <td>95.53</td>\n",
              "      <td>95.660</td>\n",
              "      <td>94.37</td>\n",
              "      <td>94.60</td>\n",
              "      <td>30949090</td>\n",
              "      <td>22.307540</td>\n",
              "      <td>22.337896</td>\n",
              "      <td>22.036664</td>\n",
              "      <td>22.090372</td>\n",
              "      <td>123796360</td>\n",
              "      <td>0.0</td>\n",
              "      <td>1.0</td>\n",
              "    </tr>\n",
              "    <tr>\n",
              "      <th>2016-07-07 00:00:00+00:00</th>\n",
              "      <td>95.94</td>\n",
              "      <td>96.500</td>\n",
              "      <td>95.62</td>\n",
              "      <td>95.70</td>\n",
              "      <td>25139558</td>\n",
              "      <td>22.403280</td>\n",
              "      <td>22.534048</td>\n",
              "      <td>22.328556</td>\n",
              "      <td>22.347237</td>\n",
              "      <td>100558232</td>\n",
              "      <td>0.0</td>\n",
              "      <td>1.0</td>\n",
              "    </tr>\n",
              "  </tbody>\n",
              "</table>\n",
              "</div>"
            ],
            "text/plain": [
              "                                  close    high  ...  divCash  splitFactor\n",
              "symbol date                                      ...                      \n",
              "AAPL   2016-06-30 00:00:00+00:00  95.60  95.770  ...      0.0          1.0\n",
              "       2016-07-01 00:00:00+00:00  95.89  96.465  ...      0.0          1.0\n",
              "       2016-07-05 00:00:00+00:00  94.99  95.400  ...      0.0          1.0\n",
              "       2016-07-06 00:00:00+00:00  95.53  95.660  ...      0.0          1.0\n",
              "       2016-07-07 00:00:00+00:00  95.94  96.500  ...      0.0          1.0\n",
              "\n",
              "[5 rows x 12 columns]"
            ]
          },
          "metadata": {
            "tags": []
          },
          "execution_count": 5
        }
      ]
    },
    {
      "cell_type": "code",
      "metadata": {
        "colab": {
          "base_uri": "https://localhost:8080/",
          "height": 234
        },
        "id": "YXfMnwj9gC9V",
        "outputId": "40347eb5-5c29-4c91-fb04-f1d488ac3cd6"
      },
      "source": [
        "df.tail()"
      ],
      "execution_count": 6,
      "outputs": [
        {
          "output_type": "execute_result",
          "data": {
            "text/html": [
              "<div>\n",
              "<style scoped>\n",
              "    .dataframe tbody tr th:only-of-type {\n",
              "        vertical-align: middle;\n",
              "    }\n",
              "\n",
              "    .dataframe tbody tr th {\n",
              "        vertical-align: top;\n",
              "    }\n",
              "\n",
              "    .dataframe thead th {\n",
              "        text-align: right;\n",
              "    }\n",
              "</style>\n",
              "<table border=\"1\" class=\"dataframe\">\n",
              "  <thead>\n",
              "    <tr style=\"text-align: right;\">\n",
              "      <th></th>\n",
              "      <th></th>\n",
              "      <th>close</th>\n",
              "      <th>high</th>\n",
              "      <th>low</th>\n",
              "      <th>open</th>\n",
              "      <th>volume</th>\n",
              "      <th>adjClose</th>\n",
              "      <th>adjHigh</th>\n",
              "      <th>adjLow</th>\n",
              "      <th>adjOpen</th>\n",
              "      <th>adjVolume</th>\n",
              "      <th>divCash</th>\n",
              "      <th>splitFactor</th>\n",
              "    </tr>\n",
              "    <tr>\n",
              "      <th>symbol</th>\n",
              "      <th>date</th>\n",
              "      <th></th>\n",
              "      <th></th>\n",
              "      <th></th>\n",
              "      <th></th>\n",
              "      <th></th>\n",
              "      <th></th>\n",
              "      <th></th>\n",
              "      <th></th>\n",
              "      <th></th>\n",
              "      <th></th>\n",
              "      <th></th>\n",
              "      <th></th>\n",
              "    </tr>\n",
              "  </thead>\n",
              "  <tbody>\n",
              "    <tr>\n",
              "      <th rowspan=\"5\" valign=\"top\">AAPL</th>\n",
              "      <th>2021-06-22 00:00:00+00:00</th>\n",
              "      <td>133.98</td>\n",
              "      <td>134.080</td>\n",
              "      <td>131.62</td>\n",
              "      <td>132.13</td>\n",
              "      <td>74783618</td>\n",
              "      <td>133.98</td>\n",
              "      <td>134.080</td>\n",
              "      <td>131.62</td>\n",
              "      <td>132.13</td>\n",
              "      <td>74783618</td>\n",
              "      <td>0.0</td>\n",
              "      <td>1.0</td>\n",
              "    </tr>\n",
              "    <tr>\n",
              "      <th>2021-06-23 00:00:00+00:00</th>\n",
              "      <td>133.70</td>\n",
              "      <td>134.320</td>\n",
              "      <td>133.23</td>\n",
              "      <td>133.77</td>\n",
              "      <td>60214200</td>\n",
              "      <td>133.70</td>\n",
              "      <td>134.320</td>\n",
              "      <td>133.23</td>\n",
              "      <td>133.77</td>\n",
              "      <td>60214200</td>\n",
              "      <td>0.0</td>\n",
              "      <td>1.0</td>\n",
              "    </tr>\n",
              "    <tr>\n",
              "      <th>2021-06-24 00:00:00+00:00</th>\n",
              "      <td>133.41</td>\n",
              "      <td>134.640</td>\n",
              "      <td>132.93</td>\n",
              "      <td>134.45</td>\n",
              "      <td>68710998</td>\n",
              "      <td>133.41</td>\n",
              "      <td>134.640</td>\n",
              "      <td>132.93</td>\n",
              "      <td>134.45</td>\n",
              "      <td>68710998</td>\n",
              "      <td>0.0</td>\n",
              "      <td>1.0</td>\n",
              "    </tr>\n",
              "    <tr>\n",
              "      <th>2021-06-25 00:00:00+00:00</th>\n",
              "      <td>133.11</td>\n",
              "      <td>133.890</td>\n",
              "      <td>132.81</td>\n",
              "      <td>133.46</td>\n",
              "      <td>70783746</td>\n",
              "      <td>133.11</td>\n",
              "      <td>133.890</td>\n",
              "      <td>132.81</td>\n",
              "      <td>133.46</td>\n",
              "      <td>70783746</td>\n",
              "      <td>0.0</td>\n",
              "      <td>1.0</td>\n",
              "    </tr>\n",
              "    <tr>\n",
              "      <th>2021-06-28 00:00:00+00:00</th>\n",
              "      <td>134.78</td>\n",
              "      <td>135.245</td>\n",
              "      <td>133.35</td>\n",
              "      <td>133.41</td>\n",
              "      <td>62111303</td>\n",
              "      <td>134.78</td>\n",
              "      <td>135.245</td>\n",
              "      <td>133.35</td>\n",
              "      <td>133.41</td>\n",
              "      <td>62111303</td>\n",
              "      <td>0.0</td>\n",
              "      <td>1.0</td>\n",
              "    </tr>\n",
              "  </tbody>\n",
              "</table>\n",
              "</div>"
            ],
            "text/plain": [
              "                                   close     high  ...  divCash  splitFactor\n",
              "symbol date                                        ...                      \n",
              "AAPL   2021-06-22 00:00:00+00:00  133.98  134.080  ...      0.0          1.0\n",
              "       2021-06-23 00:00:00+00:00  133.70  134.320  ...      0.0          1.0\n",
              "       2021-06-24 00:00:00+00:00  133.41  134.640  ...      0.0          1.0\n",
              "       2021-06-25 00:00:00+00:00  133.11  133.890  ...      0.0          1.0\n",
              "       2021-06-28 00:00:00+00:00  134.78  135.245  ...      0.0          1.0\n",
              "\n",
              "[5 rows x 12 columns]"
            ]
          },
          "metadata": {
            "tags": []
          },
          "execution_count": 6
        }
      ]
    },
    {
      "cell_type": "code",
      "metadata": {
        "id": "3gKmXCi6gC6n"
      },
      "source": [
        "df1=df.reset_index()['close']"
      ],
      "execution_count": 54,
      "outputs": []
    },
    {
      "cell_type": "code",
      "metadata": {
        "colab": {
          "base_uri": "https://localhost:8080/"
        },
        "id": "YEVNLy-8gC3-",
        "outputId": "3ac00184-8120-4c2e-9197-f0e653ad5515"
      },
      "source": [
        "df1"
      ],
      "execution_count": 55,
      "outputs": [
        {
          "output_type": "execute_result",
          "data": {
            "text/plain": [
              "0        95.60\n",
              "1        95.89\n",
              "2        94.99\n",
              "3        95.53\n",
              "4        95.94\n",
              "         ...  \n",
              "1252    133.98\n",
              "1253    133.70\n",
              "1254    133.41\n",
              "1255    133.11\n",
              "1256    134.78\n",
              "Name: close, Length: 1257, dtype: float64"
            ]
          },
          "metadata": {
            "tags": []
          },
          "execution_count": 55
        }
      ]
    },
    {
      "cell_type": "code",
      "metadata": {
        "colab": {
          "base_uri": "https://localhost:8080/",
          "height": 282
        },
        "id": "a5-C5pFmgC1X",
        "outputId": "b04c838e-74e9-4d18-baac-70aa1cb11941"
      },
      "source": [
        "import matplotlib.pyplot as plt\n",
        "plt.plot(df1)"
      ],
      "execution_count": 56,
      "outputs": [
        {
          "output_type": "execute_result",
          "data": {
            "text/plain": [
              "[<matplotlib.lines.Line2D at 0x7f9f33712990>]"
            ]
          },
          "metadata": {
            "tags": []
          },
          "execution_count": 56
        },
        {
          "output_type": "display_data",
          "data": {
            "image/png": "[encoded data removed]",
            "text/plain": [
              "<Figure size 432x288 with 1 Axes>"
            ]
          },
          "metadata": {
            "tags": [],
            "needs_background": "light"
          }
        }
      ]
    },
    {
      "cell_type": "code",
      "metadata": {
        "id": "pmpnzuOQgCwe"
      },
      "source": [
        ""
      ],
      "execution_count": null,
      "outputs": []
    },
    {
      "cell_type": "code",
      "metadata": {
        "id": "N7mSt6i1gCqO"
      },
      "source": [
        "import numpy as np"
      ],
      "execution_count": 57,
      "outputs": []
    },
    {
      "cell_type": "code",
      "metadata": {
        "colab": {
          "base_uri": "https://localhost:8080/"
        },
        "id": "8HtS6kS7gCkF",
        "outputId": "6777ac4c-97e0-4f81-cbe4-477a704c843b"
      },
      "source": [
        "df1"
      ],
      "execution_count": 58,
      "outputs": [
        {
          "output_type": "execute_result",
          "data": {
            "text/plain": [
              "0        95.60\n",
              "1        95.89\n",
              "2        94.99\n",
              "3        95.53\n",
              "4        95.94\n",
              "         ...  \n",
              "1252    133.98\n",
              "1253    133.70\n",
              "1254    133.41\n",
              "1255    133.11\n",
              "1256    134.78\n",
              "Name: close, Length: 1257, dtype: float64"
            ]
          },
          "metadata": {
            "tags": []
          },
          "execution_count": 58
        }
      ]
    },
    {
      "cell_type": "code",
      "metadata": {
        "colab": {
          "base_uri": "https://localhost:8080/"
        },
        "id": "q-1mvBXB1v5G",
        "outputId": "5642ede5-3785-4307-d2b4-92f6cbb42f7b"
      },
      "source": [
        "df1.shape"
      ],
      "execution_count": 59,
      "outputs": [
        {
          "output_type": "execute_result",
          "data": {
            "text/plain": [
              "(1257,)"
            ]
          },
          "metadata": {
            "tags": []
          },
          "execution_count": 59
        }
      ]
    },
    {
      "cell_type": "code",
      "metadata": {
        "id": "YvurqmsigCb8"
      },
      "source": [
        "### LSTM are sensitive to the scale of the data. so we apply MinMax scaler \n",
        "from sklearn.preprocessing import MinMaxScaler\n",
        "scaler=MinMaxScaler(feature_range=(0,1))\n",
        "df1=scaler.fit_transform(np.array(df1).reshape(-1,1))"
      ],
      "execution_count": 60,
      "outputs": []
    },
    {
      "cell_type": "code",
      "metadata": {
        "colab": {
          "base_uri": "https://localhost:8080/"
        },
        "id": "7IvnPZ9H1qMT",
        "outputId": "ec7640d6-6847-4eb1-a00a-4a59635041b6"
      },
      "source": [
        "df1.shape"
      ],
      "execution_count": 61,
      "outputs": [
        {
          "output_type": "execute_result",
          "data": {
            "text/plain": [
              "(1257, 1)"
            ]
          },
          "metadata": {
            "tags": []
          },
          "execution_count": 61
        }
      ]
    },
    {
      "cell_type": "code",
      "metadata": {
        "colab": {
          "base_uri": "https://localhost:8080/"
        },
        "id": "KkX2dCUIgCTU",
        "outputId": "6d67d6bf-5587-4f9d-ac24-c2baed413ce4"
      },
      "source": [
        "print(df1)"
      ],
      "execution_count": 62,
      "outputs": [
        {
          "output_type": "stream",
          "text": [
            "[[0.00148382]\n",
            " [0.00218925]\n",
            " [0.        ]\n",
            " ...\n",
            " [0.09345658]\n",
            " [0.09272683]\n",
            " [0.0967891 ]]\n"
          ],
          "name": "stdout"
        }
      ]
    },
    {
      "cell_type": "code",
      "metadata": {
        "id": "BCgJYvV7gCDt"
      },
      "source": [
        "##splitting dataset into train and test split\n",
        "training_size=int(len(df1)*0.65)\n",
        "test_size=len(df1)-training_size\n",
        "train_data,test_data=df1[0:training_size,:],df1[training_size:len(df1),:1]"
      ],
      "execution_count": 63,
      "outputs": []
    },
    {
      "cell_type": "code",
      "metadata": {
        "colab": {
          "base_uri": "https://localhost:8080/"
        },
        "id": "I583DVyAhHxO",
        "outputId": "37af3f9f-a180-4c8f-dcda-dfb3f15ae53d"
      },
      "source": [
        "training_size,test_size"
      ],
      "execution_count": 64,
      "outputs": [
        {
          "output_type": "execute_result",
          "data": {
            "text/plain": [
              "(817, 440)"
            ]
          },
          "metadata": {
            "tags": []
          },
          "execution_count": 64
        }
      ]
    },
    {
      "cell_type": "code",
      "metadata": {
        "id": "kdQJ9pchhPff"
      },
      "source": [
        "import numpy\n",
        "# convert an array of values into a dataset matrix\n",
        "def create_dataset(dataset, time_step=1):\n",
        "\tdataX, dataY = [], []\n",
        "\tfor i in range(len(dataset)-time_step-1):\n",
        "\t\ta = dataset[i:(i+time_step), 0]   ###i=0, 0,1,2,3-----99   100 \n",
        "\t\tdataX.append(a)\n",
        "\t\tdataY.append(dataset[i + time_step, 0])\n",
        "\treturn numpy.array(dataX), numpy.array(dataY)"
      ],
      "execution_count": 65,
      "outputs": []
    },
    {
      "cell_type": "code",
      "metadata": {
        "id": "jT3VYLQ8hSpf"
      },
      "source": [
        "# reshape into X=t,t+1,t+2,t+3 and Y=t+4\n",
        "time_step = 100\n",
        "X_train, y_train = create_dataset(train_data, time_step)\n",
        "X_test, ytest = create_dataset(test_data, time_step)"
      ],
      "execution_count": 66,
      "outputs": []
    },
    {
      "cell_type": "code",
      "metadata": {
        "colab": {
          "base_uri": "https://localhost:8080/"
        },
        "id": "d9dM0LVphTkR",
        "outputId": "c39952e1-edf5-45f0-e503-ce91798deffa"
      },
      "source": [
        "print(X_train.shape), print(y_train.shape)"
      ],
      "execution_count": 70,
      "outputs": [
        {
          "output_type": "stream",
          "text": [
            "(716, 100)\n",
            "(716,)\n"
          ],
          "name": "stdout"
        },
        {
          "output_type": "execute_result",
          "data": {
            "text/plain": [
              "(None, None)"
            ]
          },
          "metadata": {
            "tags": []
          },
          "execution_count": 70
        }
      ]
    },
    {
      "cell_type": "code",
      "metadata": {
        "colab": {
          "base_uri": "https://localhost:8080/"
        },
        "id": "8MoLWw4shWH4",
        "outputId": "2181e57d-0e94-4d4e-c614-f1922cb4c69e"
      },
      "source": [
        "print(X_test.shape), print(ytest.shape)"
      ],
      "execution_count": 71,
      "outputs": [
        {
          "output_type": "stream",
          "text": [
            "(339, 100)\n",
            "(339,)\n"
          ],
          "name": "stdout"
        },
        {
          "output_type": "execute_result",
          "data": {
            "text/plain": [
              "(None, None)"
            ]
          },
          "metadata": {
            "tags": []
          },
          "execution_count": 71
        }
      ]
    },
    {
      "cell_type": "code",
      "metadata": {
        "id": "_KDdhlmMhYkp"
      },
      "source": [
        "# reshape input to be [samples, time steps, features] which is required for LSTM\n",
        "X_train =X_train.reshape(X_train.shape[0],X_train.shape[1] , 1)\n",
        "X_test = X_test.reshape(X_test.shape[0],X_test.shape[1] , 1)"
      ],
      "execution_count": 72,
      "outputs": []
    },
    {
      "cell_type": "code",
      "metadata": {
        "colab": {
          "base_uri": "https://localhost:8080/"
        },
        "id": "0cIG1wzr6AAo",
        "outputId": "fb9dfc06-4c34-4658-857e-ab35f5c8e4dd"
      },
      "source": [
        "X_train.shape"
      ],
      "execution_count": 73,
      "outputs": [
        {
          "output_type": "execute_result",
          "data": {
            "text/plain": [
              "(716, 100, 1)"
            ]
          },
          "metadata": {
            "tags": []
          },
          "execution_count": 73
        }
      ]
    },
    {
      "cell_type": "code",
      "metadata": {
        "id": "7NTXqIl5hdTS"
      },
      "source": [
        "### Create the Stacked LSTM model\n",
        "from tensorflow.keras.models import Sequential\n",
        "from tensorflow.keras.layers import Dense\n",
        "from tensorflow.keras.layers import LSTM"
      ],
      "execution_count": 20,
      "outputs": []
    },
    {
      "cell_type": "code",
      "metadata": {
        "id": "OFJMHC07heEw"
      },
      "source": [
        "model=Sequential()\n",
        "model.add(LSTM(50,return_sequences=True,input_shape=(100,1)))\n",
        "model.add(LSTM(50,return_sequences=True))\n",
        "model.add(LSTM(50))\n",
        "model.add(Dense(1))\n",
        "model.compile(loss='mean_squared_error',optimizer='adam')"
      ],
      "execution_count": 21,
      "outputs": []
    },
    {
      "cell_type": "code",
      "metadata": {
        "colab": {
          "base_uri": "https://localhost:8080/"
        },
        "id": "ngbi1qpNhgY1",
        "outputId": "db7485f8-ca06-42a6-ff0b-8787686e76e2"
      },
      "source": [
        "model.summary()"
      ],
      "execution_count": 22,
      "outputs": [
        {
          "output_type": "stream",
          "text": [
            "Model: \"sequential\"\n",
            "_________________________________________________________________\n",
            "Layer (type)                 Output Shape              Param #   \n",
            "=================================================================\n",
            "lstm (LSTM)                  (None, 100, 50)           10400     \n",
            "_________________________________________________________________\n",
            "lstm_1 (LSTM)                (None, 100, 50)           20200     \n",
            "_________________________________________________________________\n",
            "lstm_2 (LSTM)                (None, 50)                20200     \n",
            "_________________________________________________________________\n",
            "dense (Dense)                (None, 1)                 51        \n",
            "=================================================================\n",
            "Total params: 50,851\n",
            "Trainable params: 50,851\n",
            "Non-trainable params: 0\n",
            "_________________________________________________________________\n"
          ],
          "name": "stdout"
        }
      ]
    },
    {
      "cell_type": "code",
      "metadata": {
        "id": "Bp4iz2PPhjH2"
      },
      "source": [
        ""
      ],
      "execution_count": null,
      "outputs": []
    },
    {
      "cell_type": "code",
      "metadata": {
        "colab": {
          "base_uri": "https://localhost:8080/"
        },
        "id": "tjQoc3s1hjF0",
        "outputId": "d8226257-a95f-43cc-9dd1-adfbc55ca631"
      },
      "source": [
        "model.fit(X_train,y_train,validation_data=(X_test,ytest),epochs=100,batch_size=64,verbose=1)"
      ],
      "execution_count": 23,
      "outputs": [
        {
          "output_type": "stream",
          "text": [
            "Epoch 1/100\n",
            "12/12 [==============================] - 9s 304ms/step - loss: 0.0125 - val_loss: 0.0375\n",
            "Epoch 2/100\n",
            "12/12 [==============================] - 2s 188ms/step - loss: 0.0024 - val_loss: 0.0258\n",
            "Epoch 3/100\n",
            "12/12 [==============================] - 2s 188ms/step - loss: 0.0013 - val_loss: 0.0253\n",
            "Epoch 4/100\n",
            "12/12 [==============================] - 2s 184ms/step - loss: 7.9970e-04 - val_loss: 0.0215\n",
            "Epoch 5/100\n",
            "12/12 [==============================] - 2s 187ms/step - loss: 5.7993e-04 - val_loss: 0.0204\n",
            "Epoch 6/100\n",
            "12/12 [==============================] - 2s 184ms/step - loss: 4.7011e-04 - val_loss: 0.0212\n",
            "Epoch 7/100\n",
            "12/12 [==============================] - 2s 190ms/step - loss: 4.2284e-04 - val_loss: 0.0199\n",
            "Epoch 8/100\n",
            "12/12 [==============================] - 2s 190ms/step - loss: 4.0981e-04 - val_loss: 0.0196\n",
            "Epoch 9/100\n",
            "12/12 [==============================] - 2s 190ms/step - loss: 4.0535e-04 - val_loss: 0.0190\n",
            "Epoch 10/100\n",
            "12/12 [==============================] - 2s 193ms/step - loss: 3.9955e-04 - val_loss: 0.0189\n",
            "Epoch 11/100\n",
            "12/12 [==============================] - 2s 193ms/step - loss: 4.0117e-04 - val_loss: 0.0187\n",
            "Epoch 12/100\n",
            "12/12 [==============================] - 2s 193ms/step - loss: 4.1675e-04 - val_loss: 0.0188\n",
            "Epoch 13/100\n",
            "12/12 [==============================] - 2s 190ms/step - loss: 4.2218e-04 - val_loss: 0.0173\n",
            "Epoch 14/100\n",
            "12/12 [==============================] - 2s 191ms/step - loss: 3.5332e-04 - val_loss: 0.0169\n",
            "Epoch 15/100\n",
            "12/12 [==============================] - 2s 191ms/step - loss: 3.3139e-04 - val_loss: 0.0165\n",
            "Epoch 16/100\n",
            "12/12 [==============================] - 2s 189ms/step - loss: 3.2122e-04 - val_loss: 0.0157\n",
            "Epoch 17/100\n",
            "12/12 [==============================] - 2s 190ms/step - loss: 3.2202e-04 - val_loss: 0.0155\n",
            "Epoch 18/100\n",
            "12/12 [==============================] - 2s 188ms/step - loss: 3.2987e-04 - val_loss: 0.0149\n",
            "Epoch 19/100\n",
            "12/12 [==============================] - 2s 190ms/step - loss: 2.8545e-04 - val_loss: 0.0144\n",
            "Epoch 20/100\n",
            "12/12 [==============================] - 2s 189ms/step - loss: 2.8021e-04 - val_loss: 0.0143\n",
            "Epoch 21/100\n",
            "12/12 [==============================] - 2s 192ms/step - loss: 2.7948e-04 - val_loss: 0.0150\n",
            "Epoch 22/100\n",
            "12/12 [==============================] - 2s 189ms/step - loss: 2.5273e-04 - val_loss: 0.0148\n",
            "Epoch 23/100\n",
            "12/12 [==============================] - 2s 186ms/step - loss: 2.4440e-04 - val_loss: 0.0155\n",
            "Epoch 24/100\n",
            "12/12 [==============================] - 2s 187ms/step - loss: 2.3919e-04 - val_loss: 0.0153\n",
            "Epoch 25/100\n",
            "12/12 [==============================] - 2s 190ms/step - loss: 2.4048e-04 - val_loss: 0.0152\n",
            "Epoch 26/100\n",
            "12/12 [==============================] - 2s 188ms/step - loss: 2.5375e-04 - val_loss: 0.0156\n",
            "Epoch 27/100\n",
            "12/12 [==============================] - 2s 186ms/step - loss: 2.5751e-04 - val_loss: 0.0147\n",
            "Epoch 28/100\n",
            "12/12 [==============================] - 2s 188ms/step - loss: 2.6921e-04 - val_loss: 0.0146\n",
            "Epoch 29/100\n",
            "12/12 [==============================] - 2s 185ms/step - loss: 2.4400e-04 - val_loss: 0.0160\n",
            "Epoch 30/100\n",
            "12/12 [==============================] - 2s 186ms/step - loss: 2.4078e-04 - val_loss: 0.0148\n",
            "Epoch 31/100\n",
            "12/12 [==============================] - 2s 187ms/step - loss: 2.2624e-04 - val_loss: 0.0145\n",
            "Epoch 32/100\n",
            "12/12 [==============================] - 2s 186ms/step - loss: 2.3240e-04 - val_loss: 0.0151\n",
            "Epoch 33/100\n",
            "12/12 [==============================] - 2s 186ms/step - loss: 2.2850e-04 - val_loss: 0.0157\n",
            "Epoch 34/100\n",
            "12/12 [==============================] - 2s 189ms/step - loss: 2.4946e-04 - val_loss: 0.0142\n",
            "Epoch 35/100\n",
            "12/12 [==============================] - 2s 186ms/step - loss: 2.5131e-04 - val_loss: 0.0149\n",
            "Epoch 36/100\n",
            "12/12 [==============================] - 2s 186ms/step - loss: 2.2360e-04 - val_loss: 0.0148\n",
            "Epoch 37/100\n",
            "12/12 [==============================] - 2s 189ms/step - loss: 2.1134e-04 - val_loss: 0.0146\n",
            "Epoch 38/100\n",
            "12/12 [==============================] - 2s 187ms/step - loss: 2.1060e-04 - val_loss: 0.0143\n",
            "Epoch 39/100\n",
            "12/12 [==============================] - 2s 189ms/step - loss: 2.0856e-04 - val_loss: 0.0147\n",
            "Epoch 40/100\n",
            "12/12 [==============================] - 2s 188ms/step - loss: 2.0617e-04 - val_loss: 0.0144\n",
            "Epoch 41/100\n",
            "12/12 [==============================] - 2s 189ms/step - loss: 2.3126e-04 - val_loss: 0.0145\n",
            "Epoch 42/100\n",
            "12/12 [==============================] - 2s 188ms/step - loss: 2.0612e-04 - val_loss: 0.0141\n",
            "Epoch 43/100\n",
            "12/12 [==============================] - 2s 188ms/step - loss: 2.0932e-04 - val_loss: 0.0141\n",
            "Epoch 44/100\n",
            "12/12 [==============================] - 2s 187ms/step - loss: 1.9747e-04 - val_loss: 0.0148\n",
            "Epoch 45/100\n",
            "12/12 [==============================] - 2s 193ms/step - loss: 2.4544e-04 - val_loss: 0.0139\n",
            "Epoch 46/100\n",
            "12/12 [==============================] - 2s 189ms/step - loss: 1.9578e-04 - val_loss: 0.0140\n",
            "Epoch 47/100\n",
            "12/12 [==============================] - 2s 189ms/step - loss: 1.9631e-04 - val_loss: 0.0139\n",
            "Epoch 48/100\n",
            "12/12 [==============================] - 2s 188ms/step - loss: 2.0051e-04 - val_loss: 0.0142\n",
            "Epoch 49/100\n",
            "12/12 [==============================] - 2s 189ms/step - loss: 1.9490e-04 - val_loss: 0.0134\n",
            "Epoch 50/100\n",
            "12/12 [==============================] - 2s 188ms/step - loss: 1.9090e-04 - val_loss: 0.0141\n",
            "Epoch 51/100\n",
            "12/12 [==============================] - 2s 191ms/step - loss: 1.8933e-04 - val_loss: 0.0137\n",
            "Epoch 52/100\n",
            "12/12 [==============================] - 2s 198ms/step - loss: 1.8838e-04 - val_loss: 0.0133\n",
            "Epoch 53/100\n",
            "12/12 [==============================] - 2s 194ms/step - loss: 2.0182e-04 - val_loss: 0.0139\n",
            "Epoch 54/100\n",
            "12/12 [==============================] - 2s 195ms/step - loss: 1.8675e-04 - val_loss: 0.0133\n",
            "Epoch 55/100\n",
            "12/12 [==============================] - 2s 190ms/step - loss: 2.0354e-04 - val_loss: 0.0133\n",
            "Epoch 56/100\n",
            "12/12 [==============================] - 2s 190ms/step - loss: 1.9217e-04 - val_loss: 0.0134\n",
            "Epoch 57/100\n",
            "12/12 [==============================] - 2s 188ms/step - loss: 1.9744e-04 - val_loss: 0.0130\n",
            "Epoch 58/100\n",
            "12/12 [==============================] - 2s 189ms/step - loss: 1.7787e-04 - val_loss: 0.0127\n",
            "Epoch 59/100\n",
            "12/12 [==============================] - 2s 190ms/step - loss: 1.8574e-04 - val_loss: 0.0126\n",
            "Epoch 60/100\n",
            "12/12 [==============================] - 2s 187ms/step - loss: 1.8669e-04 - val_loss: 0.0124\n",
            "Epoch 61/100\n",
            "12/12 [==============================] - 2s 187ms/step - loss: 1.9181e-04 - val_loss: 0.0123\n",
            "Epoch 62/100\n",
            "12/12 [==============================] - 2s 190ms/step - loss: 1.7368e-04 - val_loss: 0.0127\n",
            "Epoch 63/100\n",
            "12/12 [==============================] - 2s 189ms/step - loss: 1.7888e-04 - val_loss: 0.0120\n",
            "Epoch 64/100\n",
            "12/12 [==============================] - 2s 187ms/step - loss: 1.8164e-04 - val_loss: 0.0122\n",
            "Epoch 65/100\n",
            "12/12 [==============================] - 2s 189ms/step - loss: 1.7811e-04 - val_loss: 0.0125\n",
            "Epoch 66/100\n",
            "12/12 [==============================] - 2s 185ms/step - loss: 1.8160e-04 - val_loss: 0.0117\n",
            "Epoch 67/100\n",
            "12/12 [==============================] - 2s 188ms/step - loss: 1.6931e-04 - val_loss: 0.0121\n",
            "Epoch 68/100\n",
            "12/12 [==============================] - 2s 188ms/step - loss: 1.7309e-04 - val_loss: 0.0118\n",
            "Epoch 69/100\n",
            "12/12 [==============================] - 2s 186ms/step - loss: 1.6139e-04 - val_loss: 0.0115\n",
            "Epoch 70/100\n",
            "12/12 [==============================] - 2s 190ms/step - loss: 1.8275e-04 - val_loss: 0.0114\n",
            "Epoch 71/100\n",
            "12/12 [==============================] - 2s 190ms/step - loss: 1.6598e-04 - val_loss: 0.0112\n",
            "Epoch 72/100\n",
            "12/12 [==============================] - 2s 190ms/step - loss: 1.6179e-04 - val_loss: 0.0112\n",
            "Epoch 73/100\n",
            "12/12 [==============================] - 2s 188ms/step - loss: 1.6490e-04 - val_loss: 0.0114\n",
            "Epoch 74/100\n",
            "12/12 [==============================] - 2s 188ms/step - loss: 1.6189e-04 - val_loss: 0.0107\n",
            "Epoch 75/100\n",
            "12/12 [==============================] - 2s 187ms/step - loss: 1.5966e-04 - val_loss: 0.0107\n",
            "Epoch 76/100\n",
            "12/12 [==============================] - 2s 186ms/step - loss: 1.5500e-04 - val_loss: 0.0108\n",
            "Epoch 77/100\n",
            "12/12 [==============================] - 2s 188ms/step - loss: 1.6883e-04 - val_loss: 0.0106\n",
            "Epoch 78/100\n",
            "12/12 [==============================] - 2s 186ms/step - loss: 1.6801e-04 - val_loss: 0.0104\n",
            "Epoch 79/100\n",
            "12/12 [==============================] - 2s 189ms/step - loss: 1.5030e-04 - val_loss: 0.0102\n",
            "Epoch 80/100\n",
            "12/12 [==============================] - 2s 187ms/step - loss: 1.6745e-04 - val_loss: 0.0106\n",
            "Epoch 81/100\n",
            "12/12 [==============================] - 2s 189ms/step - loss: 1.5615e-04 - val_loss: 0.0097\n",
            "Epoch 82/100\n",
            "12/12 [==============================] - 2s 185ms/step - loss: 1.5501e-04 - val_loss: 0.0103\n",
            "Epoch 83/100\n",
            "12/12 [==============================] - 2s 187ms/step - loss: 1.5496e-04 - val_loss: 0.0098\n",
            "Epoch 84/100\n",
            "12/12 [==============================] - 2s 186ms/step - loss: 1.5165e-04 - val_loss: 0.0095\n",
            "Epoch 85/100\n",
            "12/12 [==============================] - 2s 186ms/step - loss: 1.4557e-04 - val_loss: 0.0094\n",
            "Epoch 86/100\n",
            "12/12 [==============================] - 2s 187ms/step - loss: 1.4650e-04 - val_loss: 0.0098\n",
            "Epoch 87/100\n",
            "12/12 [==============================] - 2s 186ms/step - loss: 1.6905e-04 - val_loss: 0.0087\n",
            "Epoch 88/100\n",
            "12/12 [==============================] - 2s 186ms/step - loss: 1.4344e-04 - val_loss: 0.0096\n",
            "Epoch 89/100\n",
            "12/12 [==============================] - 2s 183ms/step - loss: 1.7405e-04 - val_loss: 0.0089\n",
            "Epoch 90/100\n",
            "12/12 [==============================] - 2s 185ms/step - loss: 1.5675e-04 - val_loss: 0.0092\n",
            "Epoch 91/100\n",
            "12/12 [==============================] - 2s 188ms/step - loss: 1.4083e-04 - val_loss: 0.0095\n",
            "Epoch 92/100\n",
            "12/12 [==============================] - 2s 189ms/step - loss: 1.4013e-04 - val_loss: 0.0091\n",
            "Epoch 93/100\n",
            "12/12 [==============================] - 2s 186ms/step - loss: 1.3578e-04 - val_loss: 0.0084\n",
            "Epoch 94/100\n",
            "12/12 [==============================] - 2s 190ms/step - loss: 1.3483e-04 - val_loss: 0.0083\n",
            "Epoch 95/100\n",
            "12/12 [==============================] - 2s 186ms/step - loss: 1.3018e-04 - val_loss: 0.0093\n",
            "Epoch 96/100\n",
            "12/12 [==============================] - 2s 187ms/step - loss: 1.7492e-04 - val_loss: 0.0082\n",
            "Epoch 97/100\n",
            "12/12 [==============================] - 2s 190ms/step - loss: 1.4397e-04 - val_loss: 0.0081\n",
            "Epoch 98/100\n",
            "12/12 [==============================] - 2s 190ms/step - loss: 1.3004e-04 - val_loss: 0.0083\n",
            "Epoch 99/100\n",
            "12/12 [==============================] - 2s 190ms/step - loss: 1.2621e-04 - val_loss: 0.0085\n",
            "Epoch 100/100\n",
            "12/12 [==============================] - 2s 186ms/step - loss: 1.2589e-04 - val_loss: 0.0078\n"
          ],
          "name": "stdout"
        },
        {
          "output_type": "execute_result",
          "data": {
            "text/plain": [
              "<tensorflow.python.keras.callbacks.History at 0x7f9f38ac2ed0>"
            ]
          },
          "metadata": {
            "tags": []
          },
          "execution_count": 23
        }
      ]
    },
    {
      "cell_type": "code",
      "metadata": {
        "id": "Lm09uI76hjCa"
      },
      "source": [
        "import tensorflow as tf"
      ],
      "execution_count": 24,
      "outputs": []
    },
    {
      "cell_type": "code",
      "metadata": {
        "colab": {
          "base_uri": "https://localhost:8080/",
          "height": 35
        },
        "id": "OcEGJAQrhi-a",
        "outputId": "56fcc9f6-aefe-4b31-81c3-145502dd6e8c"
      },
      "source": [
        "tf.__version__"
      ],
      "execution_count": 25,
      "outputs": [
        {
          "output_type": "execute_result",
          "data": {
            "application/vnd.google.colaboratory.intrinsic+json": {
              "type": "string"
            },
            "text/plain": [
              "'2.5.0'"
            ]
          },
          "metadata": {
            "tags": []
          },
          "execution_count": 25
        }
      ]
    },
    {
      "cell_type": "code",
      "metadata": {
        "id": "wMD8tXC9hi7P"
      },
      "source": [
        "### Lets Do the prediction and check performance metrics\n",
        "train_predict=model.predict(X_train)\n",
        "test_predict=model.predict(X_test)"
      ],
      "execution_count": 26,
      "outputs": []
    },
    {
      "cell_type": "code",
      "metadata": {
        "id": "vAa42LCxhi3-"
      },
      "source": [
        "##Transformback to original form\n",
        "train_predict=scaler.inverse_transform(train_predict)\n",
        "test_predict=scaler.inverse_transform(test_predict)"
      ],
      "execution_count": 27,
      "outputs": []
    },
    {
      "cell_type": "code",
      "metadata": {
        "colab": {
          "base_uri": "https://localhost:8080/"
        },
        "id": "1SMDFcmehixw",
        "outputId": "6db11e43-3101-4c26-dc93-ff4896c33172"
      },
      "source": [
        "### Calculate RMSE performance metrics\n",
        "import math\n",
        "from sklearn.metrics import mean_squared_error\n",
        "math.sqrt(mean_squared_error(y_train,train_predict))"
      ],
      "execution_count": 32,
      "outputs": [
        {
          "output_type": "execute_result",
          "data": {
            "text/plain": [
              "175.03476086230037"
            ]
          },
          "metadata": {
            "tags": []
          },
          "execution_count": 32
        }
      ]
    },
    {
      "cell_type": "code",
      "metadata": {
        "colab": {
          "base_uri": "https://localhost:8080/"
        },
        "id": "VwdeCq61h4BF",
        "outputId": "5181b0fc-b7cf-43b1-bdc1-ec6daf1bbc36"
      },
      "source": [
        "### Test Data RMSE\n",
        "math.sqrt(mean_squared_error(ytest,test_predict))"
      ],
      "execution_count": 33,
      "outputs": [
        {
          "output_type": "execute_result",
          "data": {
            "text/plain": [
              "223.65485730086928"
            ]
          },
          "metadata": {
            "tags": []
          },
          "execution_count": 33
        }
      ]
    },
    {
      "cell_type": "code",
      "metadata": {
        "colab": {
          "base_uri": "https://localhost:8080/",
          "height": 265
        },
        "id": "Jq6Df-rqh3-s",
        "outputId": "0570a85b-25cb-43d6-8846-8fc4de16d5c9"
      },
      "source": [
        "### Plotting \n",
        "# shift train predictions for plotting\n",
        "look_back=100\n",
        "trainPredictPlot = numpy.empty_like(df1)\n",
        "trainPredictPlot[:, :] = np.nan\n",
        "trainPredictPlot[look_back:len(train_predict)+look_back, :] = train_predict\n",
        "# shift test predictions for plotting\n",
        "testPredictPlot = numpy.empty_like(df1)\n",
        "testPredictPlot[:, :] = numpy.nan\n",
        "testPredictPlot[len(train_predict)+(look_back*2)+1:len(df1)-1, :] = test_predict\n",
        "# plot baseline and predictions\n",
        "plt.plot(scaler.inverse_transform(df1))\n",
        "plt.plot(trainPredictPlot)\n",
        "plt.plot(testPredictPlot)\n",
        "plt.show()"
      ],
      "execution_count": 34,
      "outputs": [
        {
          "output_type": "display_data",
          "data": {
            "image/png": "[encoded data removed]",
            "text/plain": [
              "<Figure size 432x288 with 1 Axes>"
            ]
          },
          "metadata": {
            "tags": [],
            "needs_background": "light"
          }
        }
      ]
    },
    {
      "cell_type": "code",
      "metadata": {
        "id": "54o_5Jsz8k8p"
      },
      "source": [
        "#Predicting for the next 30 days "
      ],
      "execution_count": null,
      "outputs": []
    },
    {
      "cell_type": "code",
      "metadata": {
        "colab": {
          "base_uri": "https://localhost:8080/"
        },
        "id": "bP_pC-4Xh38S",
        "outputId": "a8cb7b5f-1837-4cdc-abbd-b344dd2f59c6"
      },
      "source": [
        "len(test_data)"
      ],
      "execution_count": 75,
      "outputs": [
        {
          "output_type": "execute_result",
          "data": {
            "text/plain": [
              "440"
            ]
          },
          "metadata": {
            "tags": []
          },
          "execution_count": 75
        }
      ]
    },
    {
      "cell_type": "code",
      "metadata": {
        "colab": {
          "base_uri": "https://localhost:8080/"
        },
        "id": "EyFDR9uoh34R",
        "outputId": "eb617489-b671-4eb2-9840-5d71ea347dfd"
      },
      "source": [
        "x_input=test_data[340:].reshape(1,-1)\n",
        "x_input.shape\n"
      ],
      "execution_count": 76,
      "outputs": [
        {
          "output_type": "execute_result",
          "data": {
            "text/plain": [
              "(1, 100)"
            ]
          },
          "metadata": {
            "tags": []
          },
          "execution_count": 76
        }
      ]
    },
    {
      "cell_type": "code",
      "metadata": {
        "id": "YlCNKQSPh3wA"
      },
      "source": [
        "temp_input=list(x_input)\n",
        "temp_input=temp_input[0].tolist()"
      ],
      "execution_count": 77,
      "outputs": []
    },
    {
      "cell_type": "code",
      "metadata": {
        "colab": {
          "base_uri": "https://localhost:8080/"
        },
        "id": "8exHyIB7965T",
        "outputId": "206a3934-32ba-425b-a0fd-ed96324e9127"
      },
      "source": [
        "len(temp_input)"
      ],
      "execution_count": 78,
      "outputs": [
        {
          "output_type": "execute_result",
          "data": {
            "text/plain": [
              "100"
            ]
          },
          "metadata": {
            "tags": []
          },
          "execution_count": 78
        }
      ]
    },
    {
      "cell_type": "code",
      "metadata": {
        "colab": {
          "base_uri": "https://localhost:8080/"
        },
        "id": "_vrpGBXBh3ty",
        "outputId": "92462814-2247-499e-d8d2-2e79839b0b92"
      },
      "source": [
        "temp_input"
      ],
      "execution_count": 79,
      "outputs": [
        {
          "output_type": "execute_result",
          "data": {
            "text/plain": [
              "[0.10313792264655797,\n",
              " 0.10160544879591338,\n",
              " 0.10197032352225738,\n",
              " 0.0997810751641936,\n",
              " 0.09827292629530526,\n",
              " 0.09764047676964244,\n",
              " 0.09822427633179276,\n",
              " 0.09292143030892724,\n",
              " 0.08720505959620534,\n",
              " 0.08445633665774754,\n",
              " 0.08484553636584774,\n",
              " 0.07543176842617366,\n",
              " 0.07509121868158597,\n",
              " 0.07385064461201651,\n",
              " 0.06324495256628554,\n",
              " 0.06390172707370473,\n",
              " 0.07978594016054491,\n",
              " 0.0732911700316225,\n",
              " 0.06584772561420582,\n",
              " 0.06115300413524688,\n",
              " 0.06429092678180492,\n",
              " 0.05198248601313549,\n",
              " 0.06347603989297007,\n",
              " 0.060788129408902936,\n",
              " 0.06560447579664314,\n",
              " 0.06334225249331066,\n",
              " 0.07054244709316465,\n",
              " 0.07438579421065433,\n",
              " 0.07241547068839699,\n",
              " 0.062126003405497454,\n",
              " 0.06081245439065919,\n",
              " 0.06908294818778887,\n",
              " 0.06701532473850647,\n",
              " 0.06105570420822187,\n",
              " 0.06227195329603502,\n",
              " 0.06378010216492336,\n",
              " 0.06421795183653611,\n",
              " 0.060593529554852865,\n",
              " 0.0660666504500122,\n",
              " 0.0681342738992946,\n",
              " 0.07518851860861109,\n",
              " 0.07594259304305523,\n",
              " 0.08005351495986379,\n",
              " 0.08603746047190469,\n",
              " 0.09244709316468014,\n",
              " 0.08817805886645586,\n",
              " 0.09593772804670397,\n",
              " 0.0900997324252007,\n",
              " 0.09610800291899779,\n",
              " 0.09528095353928484,\n",
              " 0.0969350522987108,\n",
              " 0.09272683045487717,\n",
              " 0.09367550474337144,\n",
              " 0.08988080758939432,\n",
              " 0.09567015324738504,\n",
              " 0.09664315251763561,\n",
              " 0.09584042811967886,\n",
              " 0.09387010459742157,\n",
              " 0.09362685477985888,\n",
              " 0.08871320846509367,\n",
              " 0.0913403064947701,\n",
              " 0.07993189005108248,\n",
              " 0.08054001459498905,\n",
              " 0.0845293116030163,\n",
              " 0.08567258574556069,\n",
              " 0.07749939187545607,\n",
              " 0.07521284359036728,\n",
              " 0.06757479931890048,\n",
              " 0.0729262953052785,\n",
              " 0.0789588907808319,\n",
              " 0.0760885429335928,\n",
              " 0.07263439552420337,\n",
              " 0.07224519581610311,\n",
              " 0.07861834103624421,\n",
              " 0.0740452444660667,\n",
              " 0.0781075164193627,\n",
              " 0.07762101678423744,\n",
              " 0.07749939187545607,\n",
              " 0.0736803697397227,\n",
              " 0.07205059596205304,\n",
              " 0.07124787156409634,\n",
              " 0.07314522014108488,\n",
              " 0.06944782291413282,\n",
              " 0.07516419362685478,\n",
              " 0.07518851860861109,\n",
              " 0.07723181707613719,\n",
              " 0.07818049136463145,\n",
              " 0.0756993432254926,\n",
              " 0.07871564096326927,\n",
              " 0.08632936025297977,\n",
              " 0.08428606178545361,\n",
              " 0.08552663585502313,\n",
              " 0.08951593286305032,\n",
              " 0.08628071028946732,\n",
              " 0.09075650693261983,\n",
              " 0.09484310386767209,\n",
              " 0.0941620043784967,\n",
              " 0.09345657990756506,\n",
              " 0.09272683045487717,\n",
              " 0.09678910240817318]"
            ]
          },
          "metadata": {
            "tags": []
          },
          "execution_count": 79
        }
      ]
    },
    {
      "cell_type": "code",
      "metadata": {
        "id": "P35TQRCDh3na"
      },
      "source": [
        ""
      ],
      "execution_count": null,
      "outputs": []
    },
    {
      "cell_type": "code",
      "metadata": {
        "colab": {
          "base_uri": "https://localhost:8080/"
        },
        "id": "rkSvARpBh3jW",
        "outputId": "a4f82ffa-8114-4e20-a9f1-9ea430de04ea"
      },
      "source": [
        "# demonstrate prediction for next 30 days\n",
        "from numpy import array\n",
        "\n",
        "lst_output=[]\n",
        "n_steps=100\n",
        "i=0\n",
        "while(i<30):\n",
        "    \n",
        "    if(len(temp_input)>100):\n",
        "        #print(temp_input)\n",
        "        x_input=np.array(temp_input[1:])\n",
        "        print(\"{} day input {}\".format(i,x_input))\n",
        "        x_input=x_input.reshape(1,-1)\n",
        "        x_input = x_input.reshape((1, n_steps, 1))\n",
        "        #print(x_input)\n",
        "        yhat = model.predict(x_input, verbose=0)\n",
        "        print(\"{} day output {}\".format(i,yhat))\n",
        "        temp_input.extend(yhat[0].tolist())\n",
        "        temp_input=temp_input[1:]\n",
        "        #print(temp_input)\n",
        "        lst_output.extend(yhat.tolist())\n",
        "        i=i+1\n",
        "    else:\n",
        "        x_input = x_input.reshape((1, n_steps,1))\n",
        "        yhat = model.predict(x_input, verbose=0)\n",
        "        print(yhat[0])\n",
        "        temp_input.extend(yhat[0].tolist())\n",
        "        print(len(temp_input))\n",
        "        lst_output.extend(yhat.tolist())\n",
        "        i=i+1\n",
        "    \n",
        "\n",
        "print(lst_output)"
      ],
      "execution_count": 39,
      "outputs": [
        {
          "output_type": "stream",
          "text": [
            "[0.09528329]\n",
            "101\n",
            "1 day input [0.10160545 0.10197032 0.09978108 0.09827293 0.09764048 0.09822428\n",
            " 0.09292143 0.08720506 0.08445634 0.08484554 0.07543177 0.07509122\n",
            " 0.07385064 0.06324495 0.06390173 0.07978594 0.07329117 0.06584773\n",
            " 0.061153   0.06429093 0.05198249 0.06347604 0.06078813 0.06560448\n",
            " 0.06334225 0.07054245 0.07438579 0.07241547 0.062126   0.06081245\n",
            " 0.06908295 0.06701532 0.0610557  0.06227195 0.0637801  0.06421795\n",
            " 0.06059353 0.06606665 0.06813427 0.07518852 0.07594259 0.08005351\n",
            " 0.08603746 0.09244709 0.08817806 0.09593773 0.09009973 0.096108\n",
            " 0.09528095 0.09693505 0.09272683 0.0936755  0.08988081 0.09567015\n",
            " 0.09664315 0.09584043 0.0938701  0.09362685 0.08871321 0.09134031\n",
            " 0.07993189 0.08054001 0.08452931 0.08567259 0.07749939 0.07521284\n",
            " 0.0675748  0.0729263  0.07895889 0.07608854 0.0726344  0.0722452\n",
            " 0.07861834 0.07404524 0.07810752 0.07762102 0.07749939 0.07368037\n",
            " 0.0720506  0.07124787 0.07314522 0.06944782 0.07516419 0.07518852\n",
            " 0.07723182 0.07818049 0.07569934 0.07871564 0.08632936 0.08428606\n",
            " 0.08552664 0.08951593 0.08628071 0.09075651 0.0948431  0.094162\n",
            " 0.09345658 0.09272683 0.0967891  0.09528329]\n",
            "1 day output [[0.09608974]]\n",
            "2 day input [0.10197032 0.09978108 0.09827293 0.09764048 0.09822428 0.09292143\n",
            " 0.08720506 0.08445634 0.08484554 0.07543177 0.07509122 0.07385064\n",
            " 0.06324495 0.06390173 0.07978594 0.07329117 0.06584773 0.061153\n",
            " 0.06429093 0.05198249 0.06347604 0.06078813 0.06560448 0.06334225\n",
            " 0.07054245 0.07438579 0.07241547 0.062126   0.06081245 0.06908295\n",
            " 0.06701532 0.0610557  0.06227195 0.0637801  0.06421795 0.06059353\n",
            " 0.06606665 0.06813427 0.07518852 0.07594259 0.08005351 0.08603746\n",
            " 0.09244709 0.08817806 0.09593773 0.09009973 0.096108   0.09528095\n",
            " 0.09693505 0.09272683 0.0936755  0.08988081 0.09567015 0.09664315\n",
            " 0.09584043 0.0938701  0.09362685 0.08871321 0.09134031 0.07993189\n",
            " 0.08054001 0.08452931 0.08567259 0.07749939 0.07521284 0.0675748\n",
            " 0.0729263  0.07895889 0.07608854 0.0726344  0.0722452  0.07861834\n",
            " 0.07404524 0.07810752 0.07762102 0.07749939 0.07368037 0.0720506\n",
            " 0.07124787 0.07314522 0.06944782 0.07516419 0.07518852 0.07723182\n",
            " 0.07818049 0.07569934 0.07871564 0.08632936 0.08428606 0.08552664\n",
            " 0.08951593 0.08628071 0.09075651 0.0948431  0.094162   0.09345658\n",
            " 0.09272683 0.0967891  0.09528329 0.09608974]\n",
            "2 day output [[0.0967517]]\n",
            "3 day input [0.09978108 0.09827293 0.09764048 0.09822428 0.09292143 0.08720506\n",
            " 0.08445634 0.08484554 0.07543177 0.07509122 0.07385064 0.06324495\n",
            " 0.06390173 0.07978594 0.07329117 0.06584773 0.061153   0.06429093\n",
            " 0.05198249 0.06347604 0.06078813 0.06560448 0.06334225 0.07054245\n",
            " 0.07438579 0.07241547 0.062126   0.06081245 0.06908295 0.06701532\n",
            " 0.0610557  0.06227195 0.0637801  0.06421795 0.06059353 0.06606665\n",
            " 0.06813427 0.07518852 0.07594259 0.08005351 0.08603746 0.09244709\n",
            " 0.08817806 0.09593773 0.09009973 0.096108   0.09528095 0.09693505\n",
            " 0.09272683 0.0936755  0.08988081 0.09567015 0.09664315 0.09584043\n",
            " 0.0938701  0.09362685 0.08871321 0.09134031 0.07993189 0.08054001\n",
            " 0.08452931 0.08567259 0.07749939 0.07521284 0.0675748  0.0729263\n",
            " 0.07895889 0.07608854 0.0726344  0.0722452  0.07861834 0.07404524\n",
            " 0.07810752 0.07762102 0.07749939 0.07368037 0.0720506  0.07124787\n",
            " 0.07314522 0.06944782 0.07516419 0.07518852 0.07723182 0.07818049\n",
            " 0.07569934 0.07871564 0.08632936 0.08428606 0.08552664 0.08951593\n",
            " 0.08628071 0.09075651 0.0948431  0.094162   0.09345658 0.09272683\n",
            " 0.0967891  0.09528329 0.09608974 0.0967517 ]\n",
            "3 day output [[0.09731478]]\n",
            "4 day input [0.09827293 0.09764048 0.09822428 0.09292143 0.08720506 0.08445634\n",
            " 0.08484554 0.07543177 0.07509122 0.07385064 0.06324495 0.06390173\n",
            " 0.07978594 0.07329117 0.06584773 0.061153   0.06429093 0.05198249\n",
            " 0.06347604 0.06078813 0.06560448 0.06334225 0.07054245 0.07438579\n",
            " 0.07241547 0.062126   0.06081245 0.06908295 0.06701532 0.0610557\n",
            " 0.06227195 0.0637801  0.06421795 0.06059353 0.06606665 0.06813427\n",
            " 0.07518852 0.07594259 0.08005351 0.08603746 0.09244709 0.08817806\n",
            " 0.09593773 0.09009973 0.096108   0.09528095 0.09693505 0.09272683\n",
            " 0.0936755  0.08988081 0.09567015 0.09664315 0.09584043 0.0938701\n",
            " 0.09362685 0.08871321 0.09134031 0.07993189 0.08054001 0.08452931\n",
            " 0.08567259 0.07749939 0.07521284 0.0675748  0.0729263  0.07895889\n",
            " 0.07608854 0.0726344  0.0722452  0.07861834 0.07404524 0.07810752\n",
            " 0.07762102 0.07749939 0.07368037 0.0720506  0.07124787 0.07314522\n",
            " 0.06944782 0.07516419 0.07518852 0.07723182 0.07818049 0.07569934\n",
            " 0.07871564 0.08632936 0.08428606 0.08552664 0.08951593 0.08628071\n",
            " 0.09075651 0.0948431  0.094162   0.09345658 0.09272683 0.0967891\n",
            " 0.09528329 0.09608974 0.0967517  0.09731478]\n",
            "4 day output [[0.09782172]]\n",
            "5 day input [0.09764048 0.09822428 0.09292143 0.08720506 0.08445634 0.08484554\n",
            " 0.07543177 0.07509122 0.07385064 0.06324495 0.06390173 0.07978594\n",
            " 0.07329117 0.06584773 0.061153   0.06429093 0.05198249 0.06347604\n",
            " 0.06078813 0.06560448 0.06334225 0.07054245 0.07438579 0.07241547\n",
            " 0.062126   0.06081245 0.06908295 0.06701532 0.0610557  0.06227195\n",
            " 0.0637801  0.06421795 0.06059353 0.06606665 0.06813427 0.07518852\n",
            " 0.07594259 0.08005351 0.08603746 0.09244709 0.08817806 0.09593773\n",
            " 0.09009973 0.096108   0.09528095 0.09693505 0.09272683 0.0936755\n",
            " 0.08988081 0.09567015 0.09664315 0.09584043 0.0938701  0.09362685\n",
            " 0.08871321 0.09134031 0.07993189 0.08054001 0.08452931 0.08567259\n",
            " 0.07749939 0.07521284 0.0675748  0.0729263  0.07895889 0.07608854\n",
            " 0.0726344  0.0722452  0.07861834 0.07404524 0.07810752 0.07762102\n",
            " 0.07749939 0.07368037 0.0720506  0.07124787 0.07314522 0.06944782\n",
            " 0.07516419 0.07518852 0.07723182 0.07818049 0.07569934 0.07871564\n",
            " 0.08632936 0.08428606 0.08552664 0.08951593 0.08628071 0.09075651\n",
            " 0.0948431  0.094162   0.09345658 0.09272683 0.0967891  0.09528329\n",
            " 0.09608974 0.0967517  0.09731478 0.09782172]\n",
            "5 day output [[0.09830476]]\n",
            "6 day input [0.09822428 0.09292143 0.08720506 0.08445634 0.08484554 0.07543177\n",
            " 0.07509122 0.07385064 0.06324495 0.06390173 0.07978594 0.07329117\n",
            " 0.06584773 0.061153   0.06429093 0.05198249 0.06347604 0.06078813\n",
            " 0.06560448 0.06334225 0.07054245 0.07438579 0.07241547 0.062126\n",
            " 0.06081245 0.06908295 0.06701532 0.0610557  0.06227195 0.0637801\n",
            " 0.06421795 0.06059353 0.06606665 0.06813427 0.07518852 0.07594259\n",
            " 0.08005351 0.08603746 0.09244709 0.08817806 0.09593773 0.09009973\n",
            " 0.096108   0.09528095 0.09693505 0.09272683 0.0936755  0.08988081\n",
            " 0.09567015 0.09664315 0.09584043 0.0938701  0.09362685 0.08871321\n",
            " 0.09134031 0.07993189 0.08054001 0.08452931 0.08567259 0.07749939\n",
            " 0.07521284 0.0675748  0.0729263  0.07895889 0.07608854 0.0726344\n",
            " 0.0722452  0.07861834 0.07404524 0.07810752 0.07762102 0.07749939\n",
            " 0.07368037 0.0720506  0.07124787 0.07314522 0.06944782 0.07516419\n",
            " 0.07518852 0.07723182 0.07818049 0.07569934 0.07871564 0.08632936\n",
            " 0.08428606 0.08552664 0.08951593 0.08628071 0.09075651 0.0948431\n",
            " 0.094162   0.09345658 0.09272683 0.0967891  0.09528329 0.09608974\n",
            " 0.0967517  0.09731478 0.09782172 0.09830476]\n",
            "6 day output [[0.09878512]]\n",
            "7 day input [0.09292143 0.08720506 0.08445634 0.08484554 0.07543177 0.07509122\n",
            " 0.07385064 0.06324495 0.06390173 0.07978594 0.07329117 0.06584773\n",
            " 0.061153   0.06429093 0.05198249 0.06347604 0.06078813 0.06560448\n",
            " 0.06334225 0.07054245 0.07438579 0.07241547 0.062126   0.06081245\n",
            " 0.06908295 0.06701532 0.0610557  0.06227195 0.0637801  0.06421795\n",
            " 0.06059353 0.06606665 0.06813427 0.07518852 0.07594259 0.08005351\n",
            " 0.08603746 0.09244709 0.08817806 0.09593773 0.09009973 0.096108\n",
            " 0.09528095 0.09693505 0.09272683 0.0936755  0.08988081 0.09567015\n",
            " 0.09664315 0.09584043 0.0938701  0.09362685 0.08871321 0.09134031\n",
            " 0.07993189 0.08054001 0.08452931 0.08567259 0.07749939 0.07521284\n",
            " 0.0675748  0.0729263  0.07895889 0.07608854 0.0726344  0.0722452\n",
            " 0.07861834 0.07404524 0.07810752 0.07762102 0.07749939 0.07368037\n",
            " 0.0720506  0.07124787 0.07314522 0.06944782 0.07516419 0.07518852\n",
            " 0.07723182 0.07818049 0.07569934 0.07871564 0.08632936 0.08428606\n",
            " 0.08552664 0.08951593 0.08628071 0.09075651 0.0948431  0.094162\n",
            " 0.09345658 0.09272683 0.0967891  0.09528329 0.09608974 0.0967517\n",
            " 0.09731478 0.09782172 0.09830476 0.09878512]\n",
            "7 day output [[0.09927532]]\n",
            "8 day input [0.08720506 0.08445634 0.08484554 0.07543177 0.07509122 0.07385064\n",
            " 0.06324495 0.06390173 0.07978594 0.07329117 0.06584773 0.061153\n",
            " 0.06429093 0.05198249 0.06347604 0.06078813 0.06560448 0.06334225\n",
            " 0.07054245 0.07438579 0.07241547 0.062126   0.06081245 0.06908295\n",
            " 0.06701532 0.0610557  0.06227195 0.0637801  0.06421795 0.06059353\n",
            " 0.06606665 0.06813427 0.07518852 0.07594259 0.08005351 0.08603746\n",
            " 0.09244709 0.08817806 0.09593773 0.09009973 0.096108   0.09528095\n",
            " 0.09693505 0.09272683 0.0936755  0.08988081 0.09567015 0.09664315\n",
            " 0.09584043 0.0938701  0.09362685 0.08871321 0.09134031 0.07993189\n",
            " 0.08054001 0.08452931 0.08567259 0.07749939 0.07521284 0.0675748\n",
            " 0.0729263  0.07895889 0.07608854 0.0726344  0.0722452  0.07861834\n",
            " 0.07404524 0.07810752 0.07762102 0.07749939 0.07368037 0.0720506\n",
            " 0.07124787 0.07314522 0.06944782 0.07516419 0.07518852 0.07723182\n",
            " 0.07818049 0.07569934 0.07871564 0.08632936 0.08428606 0.08552664\n",
            " 0.08951593 0.08628071 0.09075651 0.0948431  0.094162   0.09345658\n",
            " 0.09272683 0.0967891  0.09528329 0.09608974 0.0967517  0.09731478\n",
            " 0.09782172 0.09830476 0.09878512 0.09927532]\n",
            "8 day output [[0.09978181]]\n",
            "9 day input [0.08445634 0.08484554 0.07543177 0.07509122 0.07385064 0.06324495\n",
            " 0.06390173 0.07978594 0.07329117 0.06584773 0.061153   0.06429093\n",
            " 0.05198249 0.06347604 0.06078813 0.06560448 0.06334225 0.07054245\n",
            " 0.07438579 0.07241547 0.062126   0.06081245 0.06908295 0.06701532\n",
            " 0.0610557  0.06227195 0.0637801  0.06421795 0.06059353 0.06606665\n",
            " 0.06813427 0.07518852 0.07594259 0.08005351 0.08603746 0.09244709\n",
            " 0.08817806 0.09593773 0.09009973 0.096108   0.09528095 0.09693505\n",
            " 0.09272683 0.0936755  0.08988081 0.09567015 0.09664315 0.09584043\n",
            " 0.0938701  0.09362685 0.08871321 0.09134031 0.07993189 0.08054001\n",
            " 0.08452931 0.08567259 0.07749939 0.07521284 0.0675748  0.0729263\n",
            " 0.07895889 0.07608854 0.0726344  0.0722452  0.07861834 0.07404524\n",
            " 0.07810752 0.07762102 0.07749939 0.07368037 0.0720506  0.07124787\n",
            " 0.07314522 0.06944782 0.07516419 0.07518852 0.07723182 0.07818049\n",
            " 0.07569934 0.07871564 0.08632936 0.08428606 0.08552664 0.08951593\n",
            " 0.08628071 0.09075651 0.0948431  0.094162   0.09345658 0.09272683\n",
            " 0.0967891  0.09528329 0.09608974 0.0967517  0.09731478 0.09782172\n",
            " 0.09830476 0.09878512 0.09927532 0.09978181]\n",
            "9 day output [[0.10030741]]\n",
            "10 day input [0.08484554 0.07543177 0.07509122 0.07385064 0.06324495 0.06390173\n",
            " 0.07978594 0.07329117 0.06584773 0.061153   0.06429093 0.05198249\n",
            " 0.06347604 0.06078813 0.06560448 0.06334225 0.07054245 0.07438579\n",
            " 0.07241547 0.062126   0.06081245 0.06908295 0.06701532 0.0610557\n",
            " 0.06227195 0.0637801  0.06421795 0.06059353 0.06606665 0.06813427\n",
            " 0.07518852 0.07594259 0.08005351 0.08603746 0.09244709 0.08817806\n",
            " 0.09593773 0.09009973 0.096108   0.09528095 0.09693505 0.09272683\n",
            " 0.0936755  0.08988081 0.09567015 0.09664315 0.09584043 0.0938701\n",
            " 0.09362685 0.08871321 0.09134031 0.07993189 0.08054001 0.08452931\n",
            " 0.08567259 0.07749939 0.07521284 0.0675748  0.0729263  0.07895889\n",
            " 0.07608854 0.0726344  0.0722452  0.07861834 0.07404524 0.07810752\n",
            " 0.07762102 0.07749939 0.07368037 0.0720506  0.07124787 0.07314522\n",
            " 0.06944782 0.07516419 0.07518852 0.07723182 0.07818049 0.07569934\n",
            " 0.07871564 0.08632936 0.08428606 0.08552664 0.08951593 0.08628071\n",
            " 0.09075651 0.0948431  0.094162   0.09345658 0.09272683 0.0967891\n",
            " 0.09528329 0.09608974 0.0967517  0.09731478 0.09782172 0.09830476\n",
            " 0.09878512 0.09927532 0.09978181 0.10030741]\n",
            "10 day output [[0.10085271]]\n",
            "11 day input [0.07543177 0.07509122 0.07385064 0.06324495 0.06390173 0.07978594\n",
            " 0.07329117 0.06584773 0.061153   0.06429093 0.05198249 0.06347604\n",
            " 0.06078813 0.06560448 0.06334225 0.07054245 0.07438579 0.07241547\n",
            " 0.062126   0.06081245 0.06908295 0.06701532 0.0610557  0.06227195\n",
            " 0.0637801  0.06421795 0.06059353 0.06606665 0.06813427 0.07518852\n",
            " 0.07594259 0.08005351 0.08603746 0.09244709 0.08817806 0.09593773\n",
            " 0.09009973 0.096108   0.09528095 0.09693505 0.09272683 0.0936755\n",
            " 0.08988081 0.09567015 0.09664315 0.09584043 0.0938701  0.09362685\n",
            " 0.08871321 0.09134031 0.07993189 0.08054001 0.08452931 0.08567259\n",
            " 0.07749939 0.07521284 0.0675748  0.0729263  0.07895889 0.07608854\n",
            " 0.0726344  0.0722452  0.07861834 0.07404524 0.07810752 0.07762102\n",
            " 0.07749939 0.07368037 0.0720506  0.07124787 0.07314522 0.06944782\n",
            " 0.07516419 0.07518852 0.07723182 0.07818049 0.07569934 0.07871564\n",
            " 0.08632936 0.08428606 0.08552664 0.08951593 0.08628071 0.09075651\n",
            " 0.0948431  0.094162   0.09345658 0.09272683 0.0967891  0.09528329\n",
            " 0.09608974 0.0967517  0.09731478 0.09782172 0.09830476 0.09878512\n",
            " 0.09927532 0.09978181 0.10030741 0.10085271]\n",
            "11 day output [[0.10141696]]\n",
            "12 day input [0.07509122 0.07385064 0.06324495 0.06390173 0.07978594 0.07329117\n",
            " 0.06584773 0.061153   0.06429093 0.05198249 0.06347604 0.06078813\n",
            " 0.06560448 0.06334225 0.07054245 0.07438579 0.07241547 0.062126\n",
            " 0.06081245 0.06908295 0.06701532 0.0610557  0.06227195 0.0637801\n",
            " 0.06421795 0.06059353 0.06606665 0.06813427 0.07518852 0.07594259\n",
            " 0.08005351 0.08603746 0.09244709 0.08817806 0.09593773 0.09009973\n",
            " 0.096108   0.09528095 0.09693505 0.09272683 0.0936755  0.08988081\n",
            " 0.09567015 0.09664315 0.09584043 0.0938701  0.09362685 0.08871321\n",
            " 0.09134031 0.07993189 0.08054001 0.08452931 0.08567259 0.07749939\n",
            " 0.07521284 0.0675748  0.0729263  0.07895889 0.07608854 0.0726344\n",
            " 0.0722452  0.07861834 0.07404524 0.07810752 0.07762102 0.07749939\n",
            " 0.07368037 0.0720506  0.07124787 0.07314522 0.06944782 0.07516419\n",
            " 0.07518852 0.07723182 0.07818049 0.07569934 0.07871564 0.08632936\n",
            " 0.08428606 0.08552664 0.08951593 0.08628071 0.09075651 0.0948431\n",
            " 0.094162   0.09345658 0.09272683 0.0967891  0.09528329 0.09608974\n",
            " 0.0967517  0.09731478 0.09782172 0.09830476 0.09878512 0.09927532\n",
            " 0.09978181 0.10030741 0.10085271 0.10141696]\n",
            "12 day output [[0.10199892]]\n",
            "13 day input [0.07385064 0.06324495 0.06390173 0.07978594 0.07329117 0.06584773\n",
            " 0.061153   0.06429093 0.05198249 0.06347604 0.06078813 0.06560448\n",
            " 0.06334225 0.07054245 0.07438579 0.07241547 0.062126   0.06081245\n",
            " 0.06908295 0.06701532 0.0610557  0.06227195 0.0637801  0.06421795\n",
            " 0.06059353 0.06606665 0.06813427 0.07518852 0.07594259 0.08005351\n",
            " 0.08603746 0.09244709 0.08817806 0.09593773 0.09009973 0.096108\n",
            " 0.09528095 0.09693505 0.09272683 0.0936755  0.08988081 0.09567015\n",
            " 0.09664315 0.09584043 0.0938701  0.09362685 0.08871321 0.09134031\n",
            " 0.07993189 0.08054001 0.08452931 0.08567259 0.07749939 0.07521284\n",
            " 0.0675748  0.0729263  0.07895889 0.07608854 0.0726344  0.0722452\n",
            " 0.07861834 0.07404524 0.07810752 0.07762102 0.07749939 0.07368037\n",
            " 0.0720506  0.07124787 0.07314522 0.06944782 0.07516419 0.07518852\n",
            " 0.07723182 0.07818049 0.07569934 0.07871564 0.08632936 0.08428606\n",
            " 0.08552664 0.08951593 0.08628071 0.09075651 0.0948431  0.094162\n",
            " 0.09345658 0.09272683 0.0967891  0.09528329 0.09608974 0.0967517\n",
            " 0.09731478 0.09782172 0.09830476 0.09878512 0.09927532 0.09978181\n",
            " 0.10030741 0.10085271 0.10141696 0.10199892]\n",
            "13 day output [[0.10259672]]\n",
            "14 day input [0.06324495 0.06390173 0.07978594 0.07329117 0.06584773 0.061153\n",
            " 0.06429093 0.05198249 0.06347604 0.06078813 0.06560448 0.06334225\n",
            " 0.07054245 0.07438579 0.07241547 0.062126   0.06081245 0.06908295\n",
            " 0.06701532 0.0610557  0.06227195 0.0637801  0.06421795 0.06059353\n",
            " 0.06606665 0.06813427 0.07518852 0.07594259 0.08005351 0.08603746\n",
            " 0.09244709 0.08817806 0.09593773 0.09009973 0.096108   0.09528095\n",
            " 0.09693505 0.09272683 0.0936755  0.08988081 0.09567015 0.09664315\n",
            " 0.09584043 0.0938701  0.09362685 0.08871321 0.09134031 0.07993189\n",
            " 0.08054001 0.08452931 0.08567259 0.07749939 0.07521284 0.0675748\n",
            " 0.0729263  0.07895889 0.07608854 0.0726344  0.0722452  0.07861834\n",
            " 0.07404524 0.07810752 0.07762102 0.07749939 0.07368037 0.0720506\n",
            " 0.07124787 0.07314522 0.06944782 0.07516419 0.07518852 0.07723182\n",
            " 0.07818049 0.07569934 0.07871564 0.08632936 0.08428606 0.08552664\n",
            " 0.08951593 0.08628071 0.09075651 0.0948431  0.094162   0.09345658\n",
            " 0.09272683 0.0967891  0.09528329 0.09608974 0.0967517  0.09731478\n",
            " 0.09782172 0.09830476 0.09878512 0.09927532 0.09978181 0.10030741\n",
            " 0.10085271 0.10141696 0.10199892 0.10259672]\n",
            "14 day output [[0.1032084]]\n",
            "15 day input [0.06390173 0.07978594 0.07329117 0.06584773 0.061153   0.06429093\n",
            " 0.05198249 0.06347604 0.06078813 0.06560448 0.06334225 0.07054245\n",
            " 0.07438579 0.07241547 0.062126   0.06081245 0.06908295 0.06701532\n",
            " 0.0610557  0.06227195 0.0637801  0.06421795 0.06059353 0.06606665\n",
            " 0.06813427 0.07518852 0.07594259 0.08005351 0.08603746 0.09244709\n",
            " 0.08817806 0.09593773 0.09009973 0.096108   0.09528095 0.09693505\n",
            " 0.09272683 0.0936755  0.08988081 0.09567015 0.09664315 0.09584043\n",
            " 0.0938701  0.09362685 0.08871321 0.09134031 0.07993189 0.08054001\n",
            " 0.08452931 0.08567259 0.07749939 0.07521284 0.0675748  0.0729263\n",
            " 0.07895889 0.07608854 0.0726344  0.0722452  0.07861834 0.07404524\n",
            " 0.07810752 0.07762102 0.07749939 0.07368037 0.0720506  0.07124787\n",
            " 0.07314522 0.06944782 0.07516419 0.07518852 0.07723182 0.07818049\n",
            " 0.07569934 0.07871564 0.08632936 0.08428606 0.08552664 0.08951593\n",
            " 0.08628071 0.09075651 0.0948431  0.094162   0.09345658 0.09272683\n",
            " 0.0967891  0.09528329 0.09608974 0.0967517  0.09731478 0.09782172\n",
            " 0.09830476 0.09878512 0.09927532 0.09978181 0.10030741 0.10085271\n",
            " 0.10141696 0.10199892 0.10259672 0.1032084 ]\n",
            "15 day output [[0.10383177]]\n",
            "16 day input [0.07978594 0.07329117 0.06584773 0.061153   0.06429093 0.05198249\n",
            " 0.06347604 0.06078813 0.06560448 0.06334225 0.07054245 0.07438579\n",
            " 0.07241547 0.062126   0.06081245 0.06908295 0.06701532 0.0610557\n",
            " 0.06227195 0.0637801  0.06421795 0.06059353 0.06606665 0.06813427\n",
            " 0.07518852 0.07594259 0.08005351 0.08603746 0.09244709 0.08817806\n",
            " 0.09593773 0.09009973 0.096108   0.09528095 0.09693505 0.09272683\n",
            " 0.0936755  0.08988081 0.09567015 0.09664315 0.09584043 0.0938701\n",
            " 0.09362685 0.08871321 0.09134031 0.07993189 0.08054001 0.08452931\n",
            " 0.08567259 0.07749939 0.07521284 0.0675748  0.0729263  0.07895889\n",
            " 0.07608854 0.0726344  0.0722452  0.07861834 0.07404524 0.07810752\n",
            " 0.07762102 0.07749939 0.07368037 0.0720506  0.07124787 0.07314522\n",
            " 0.06944782 0.07516419 0.07518852 0.07723182 0.07818049 0.07569934\n",
            " 0.07871564 0.08632936 0.08428606 0.08552664 0.08951593 0.08628071\n",
            " 0.09075651 0.0948431  0.094162   0.09345658 0.09272683 0.0967891\n",
            " 0.09528329 0.09608974 0.0967517  0.09731478 0.09782172 0.09830476\n",
            " 0.09878512 0.09927532 0.09978181 0.10030741 0.10085271 0.10141696\n",
            " 0.10199892 0.10259672 0.1032084  0.10383177]\n",
            "16 day output [[0.10446463]]\n",
            "17 day input [0.07329117 0.06584773 0.061153   0.06429093 0.05198249 0.06347604\n",
            " 0.06078813 0.06560448 0.06334225 0.07054245 0.07438579 0.07241547\n",
            " 0.062126   0.06081245 0.06908295 0.06701532 0.0610557  0.06227195\n",
            " 0.0637801  0.06421795 0.06059353 0.06606665 0.06813427 0.07518852\n",
            " 0.07594259 0.08005351 0.08603746 0.09244709 0.08817806 0.09593773\n",
            " 0.09009973 0.096108   0.09528095 0.09693505 0.09272683 0.0936755\n",
            " 0.08988081 0.09567015 0.09664315 0.09584043 0.0938701  0.09362685\n",
            " 0.08871321 0.09134031 0.07993189 0.08054001 0.08452931 0.08567259\n",
            " 0.07749939 0.07521284 0.0675748  0.0729263  0.07895889 0.07608854\n",
            " 0.0726344  0.0722452  0.07861834 0.07404524 0.07810752 0.07762102\n",
            " 0.07749939 0.07368037 0.0720506  0.07124787 0.07314522 0.06944782\n",
            " 0.07516419 0.07518852 0.07723182 0.07818049 0.07569934 0.07871564\n",
            " 0.08632936 0.08428606 0.08552664 0.08951593 0.08628071 0.09075651\n",
            " 0.0948431  0.094162   0.09345658 0.09272683 0.0967891  0.09528329\n",
            " 0.09608974 0.0967517  0.09731478 0.09782172 0.09830476 0.09878512\n",
            " 0.09927532 0.09978181 0.10030741 0.10085271 0.10141696 0.10199892\n",
            " 0.10259672 0.1032084  0.10383177 0.10446463]\n",
            "17 day output [[0.10510483]]\n",
            "18 day input [0.06584773 0.061153   0.06429093 0.05198249 0.06347604 0.06078813\n",
            " 0.06560448 0.06334225 0.07054245 0.07438579 0.07241547 0.062126\n",
            " 0.06081245 0.06908295 0.06701532 0.0610557  0.06227195 0.0637801\n",
            " 0.06421795 0.06059353 0.06606665 0.06813427 0.07518852 0.07594259\n",
            " 0.08005351 0.08603746 0.09244709 0.08817806 0.09593773 0.09009973\n",
            " 0.096108   0.09528095 0.09693505 0.09272683 0.0936755  0.08988081\n",
            " 0.09567015 0.09664315 0.09584043 0.0938701  0.09362685 0.08871321\n",
            " 0.09134031 0.07993189 0.08054001 0.08452931 0.08567259 0.07749939\n",
            " 0.07521284 0.0675748  0.0729263  0.07895889 0.07608854 0.0726344\n",
            " 0.0722452  0.07861834 0.07404524 0.07810752 0.07762102 0.07749939\n",
            " 0.07368037 0.0720506  0.07124787 0.07314522 0.06944782 0.07516419\n",
            " 0.07518852 0.07723182 0.07818049 0.07569934 0.07871564 0.08632936\n",
            " 0.08428606 0.08552664 0.08951593 0.08628071 0.09075651 0.0948431\n",
            " 0.094162   0.09345658 0.09272683 0.0967891  0.09528329 0.09608974\n",
            " 0.0967517  0.09731478 0.09782172 0.09830476 0.09878512 0.09927532\n",
            " 0.09978181 0.10030741 0.10085271 0.10141696 0.10199892 0.10259672\n",
            " 0.1032084  0.10383177 0.10446463 0.10510483]\n",
            "18 day output [[0.1057503]]\n",
            "19 day input [0.061153   0.06429093 0.05198249 0.06347604 0.06078813 0.06560448\n",
            " 0.06334225 0.07054245 0.07438579 0.07241547 0.062126   0.06081245\n",
            " 0.06908295 0.06701532 0.0610557  0.06227195 0.0637801  0.06421795\n",
            " 0.06059353 0.06606665 0.06813427 0.07518852 0.07594259 0.08005351\n",
            " 0.08603746 0.09244709 0.08817806 0.09593773 0.09009973 0.096108\n",
            " 0.09528095 0.09693505 0.09272683 0.0936755  0.08988081 0.09567015\n",
            " 0.09664315 0.09584043 0.0938701  0.09362685 0.08871321 0.09134031\n",
            " 0.07993189 0.08054001 0.08452931 0.08567259 0.07749939 0.07521284\n",
            " 0.0675748  0.0729263  0.07895889 0.07608854 0.0726344  0.0722452\n",
            " 0.07861834 0.07404524 0.07810752 0.07762102 0.07749939 0.07368037\n",
            " 0.0720506  0.07124787 0.07314522 0.06944782 0.07516419 0.07518852\n",
            " 0.07723182 0.07818049 0.07569934 0.07871564 0.08632936 0.08428606\n",
            " 0.08552664 0.08951593 0.08628071 0.09075651 0.0948431  0.094162\n",
            " 0.09345658 0.09272683 0.0967891  0.09528329 0.09608974 0.0967517\n",
            " 0.09731478 0.09782172 0.09830476 0.09878512 0.09927532 0.09978181\n",
            " 0.10030741 0.10085271 0.10141696 0.10199892 0.10259672 0.1032084\n",
            " 0.10383177 0.10446463 0.10510483 0.1057503 ]\n",
            "19 day output [[0.10639917]]\n",
            "20 day input [0.06429093 0.05198249 0.06347604 0.06078813 0.06560448 0.06334225\n",
            " 0.07054245 0.07438579 0.07241547 0.062126   0.06081245 0.06908295\n",
            " 0.06701532 0.0610557  0.06227195 0.0637801  0.06421795 0.06059353\n",
            " 0.06606665 0.06813427 0.07518852 0.07594259 0.08005351 0.08603746\n",
            " 0.09244709 0.08817806 0.09593773 0.09009973 0.096108   0.09528095\n",
            " 0.09693505 0.09272683 0.0936755  0.08988081 0.09567015 0.09664315\n",
            " 0.09584043 0.0938701  0.09362685 0.08871321 0.09134031 0.07993189\n",
            " 0.08054001 0.08452931 0.08567259 0.07749939 0.07521284 0.0675748\n",
            " 0.0729263  0.07895889 0.07608854 0.0726344  0.0722452  0.07861834\n",
            " 0.07404524 0.07810752 0.07762102 0.07749939 0.07368037 0.0720506\n",
            " 0.07124787 0.07314522 0.06944782 0.07516419 0.07518852 0.07723182\n",
            " 0.07818049 0.07569934 0.07871564 0.08632936 0.08428606 0.08552664\n",
            " 0.08951593 0.08628071 0.09075651 0.0948431  0.094162   0.09345658\n",
            " 0.09272683 0.0967891  0.09528329 0.09608974 0.0967517  0.09731478\n",
            " 0.09782172 0.09830476 0.09878512 0.09927532 0.09978181 0.10030741\n",
            " 0.10085271 0.10141696 0.10199892 0.10259672 0.1032084  0.10383177\n",
            " 0.10446463 0.10510483 0.1057503  0.10639917]\n",
            "20 day output [[0.10704979]]\n",
            "21 day input [0.05198249 0.06347604 0.06078813 0.06560448 0.06334225 0.07054245\n",
            " 0.07438579 0.07241547 0.062126   0.06081245 0.06908295 0.06701532\n",
            " 0.0610557  0.06227195 0.0637801  0.06421795 0.06059353 0.06606665\n",
            " 0.06813427 0.07518852 0.07594259 0.08005351 0.08603746 0.09244709\n",
            " 0.08817806 0.09593773 0.09009973 0.096108   0.09528095 0.09693505\n",
            " 0.09272683 0.0936755  0.08988081 0.09567015 0.09664315 0.09584043\n",
            " 0.0938701  0.09362685 0.08871321 0.09134031 0.07993189 0.08054001\n",
            " 0.08452931 0.08567259 0.07749939 0.07521284 0.0675748  0.0729263\n",
            " 0.07895889 0.07608854 0.0726344  0.0722452  0.07861834 0.07404524\n",
            " 0.07810752 0.07762102 0.07749939 0.07368037 0.0720506  0.07124787\n",
            " 0.07314522 0.06944782 0.07516419 0.07518852 0.07723182 0.07818049\n",
            " 0.07569934 0.07871564 0.08632936 0.08428606 0.08552664 0.08951593\n",
            " 0.08628071 0.09075651 0.0948431  0.094162   0.09345658 0.09272683\n",
            " 0.0967891  0.09528329 0.09608974 0.0967517  0.09731478 0.09782172\n",
            " 0.09830476 0.09878512 0.09927532 0.09978181 0.10030741 0.10085271\n",
            " 0.10141696 0.10199892 0.10259672 0.1032084  0.10383177 0.10446463\n",
            " 0.10510483 0.1057503  0.10639917 0.10704979]\n",
            "21 day output [[0.10770062]]\n",
            "22 day input [0.06347604 0.06078813 0.06560448 0.06334225 0.07054245 0.07438579\n",
            " 0.07241547 0.062126   0.06081245 0.06908295 0.06701532 0.0610557\n",
            " 0.06227195 0.0637801  0.06421795 0.06059353 0.06606665 0.06813427\n",
            " 0.07518852 0.07594259 0.08005351 0.08603746 0.09244709 0.08817806\n",
            " 0.09593773 0.09009973 0.096108   0.09528095 0.09693505 0.09272683\n",
            " 0.0936755  0.08988081 0.09567015 0.09664315 0.09584043 0.0938701\n",
            " 0.09362685 0.08871321 0.09134031 0.07993189 0.08054001 0.08452931\n",
            " 0.08567259 0.07749939 0.07521284 0.0675748  0.0729263  0.07895889\n",
            " 0.07608854 0.0726344  0.0722452  0.07861834 0.07404524 0.07810752\n",
            " 0.07762102 0.07749939 0.07368037 0.0720506  0.07124787 0.07314522\n",
            " 0.06944782 0.07516419 0.07518852 0.07723182 0.07818049 0.07569934\n",
            " 0.07871564 0.08632936 0.08428606 0.08552664 0.08951593 0.08628071\n",
            " 0.09075651 0.0948431  0.094162   0.09345658 0.09272683 0.0967891\n",
            " 0.09528329 0.09608974 0.0967517  0.09731478 0.09782172 0.09830476\n",
            " 0.09878512 0.09927532 0.09978181 0.10030741 0.10085271 0.10141696\n",
            " 0.10199892 0.10259672 0.1032084  0.10383177 0.10446463 0.10510483\n",
            " 0.1057503  0.10639917 0.10704979 0.10770062]\n",
            "22 day output [[0.10835057]]\n",
            "23 day input [0.06078813 0.06560448 0.06334225 0.07054245 0.07438579 0.07241547\n",
            " 0.062126   0.06081245 0.06908295 0.06701532 0.0610557  0.06227195\n",
            " 0.0637801  0.06421795 0.06059353 0.06606665 0.06813427 0.07518852\n",
            " 0.07594259 0.08005351 0.08603746 0.09244709 0.08817806 0.09593773\n",
            " 0.09009973 0.096108   0.09528095 0.09693505 0.09272683 0.0936755\n",
            " 0.08988081 0.09567015 0.09664315 0.09584043 0.0938701  0.09362685\n",
            " 0.08871321 0.09134031 0.07993189 0.08054001 0.08452931 0.08567259\n",
            " 0.07749939 0.07521284 0.0675748  0.0729263  0.07895889 0.07608854\n",
            " 0.0726344  0.0722452  0.07861834 0.07404524 0.07810752 0.07762102\n",
            " 0.07749939 0.07368037 0.0720506  0.07124787 0.07314522 0.06944782\n",
            " 0.07516419 0.07518852 0.07723182 0.07818049 0.07569934 0.07871564\n",
            " 0.08632936 0.08428606 0.08552664 0.08951593 0.08628071 0.09075651\n",
            " 0.0948431  0.094162   0.09345658 0.09272683 0.0967891  0.09528329\n",
            " 0.09608974 0.0967517  0.09731478 0.09782172 0.09830476 0.09878512\n",
            " 0.09927532 0.09978181 0.10030741 0.10085271 0.10141696 0.10199892\n",
            " 0.10259672 0.1032084  0.10383177 0.10446463 0.10510483 0.1057503\n",
            " 0.10639917 0.10704979 0.10770062 0.10835057]\n",
            "23 day output [[0.10899857]]\n",
            "24 day input [0.06560448 0.06334225 0.07054245 0.07438579 0.07241547 0.062126\n",
            " 0.06081245 0.06908295 0.06701532 0.0610557  0.06227195 0.0637801\n",
            " 0.06421795 0.06059353 0.06606665 0.06813427 0.07518852 0.07594259\n",
            " 0.08005351 0.08603746 0.09244709 0.08817806 0.09593773 0.09009973\n",
            " 0.096108   0.09528095 0.09693505 0.09272683 0.0936755  0.08988081\n",
            " 0.09567015 0.09664315 0.09584043 0.0938701  0.09362685 0.08871321\n",
            " 0.09134031 0.07993189 0.08054001 0.08452931 0.08567259 0.07749939\n",
            " 0.07521284 0.0675748  0.0729263  0.07895889 0.07608854 0.0726344\n",
            " 0.0722452  0.07861834 0.07404524 0.07810752 0.07762102 0.07749939\n",
            " 0.07368037 0.0720506  0.07124787 0.07314522 0.06944782 0.07516419\n",
            " 0.07518852 0.07723182 0.07818049 0.07569934 0.07871564 0.08632936\n",
            " 0.08428606 0.08552664 0.08951593 0.08628071 0.09075651 0.0948431\n",
            " 0.094162   0.09345658 0.09272683 0.0967891  0.09528329 0.09608974\n",
            " 0.0967517  0.09731478 0.09782172 0.09830476 0.09878512 0.09927532\n",
            " 0.09978181 0.10030741 0.10085271 0.10141696 0.10199892 0.10259672\n",
            " 0.1032084  0.10383177 0.10446463 0.10510483 0.1057503  0.10639917\n",
            " 0.10704979 0.10770062 0.10835057 0.10899857]\n",
            "24 day output [[0.10964396]]\n",
            "25 day input [0.06334225 0.07054245 0.07438579 0.07241547 0.062126   0.06081245\n",
            " 0.06908295 0.06701532 0.0610557  0.06227195 0.0637801  0.06421795\n",
            " 0.06059353 0.06606665 0.06813427 0.07518852 0.07594259 0.08005351\n",
            " 0.08603746 0.09244709 0.08817806 0.09593773 0.09009973 0.096108\n",
            " 0.09528095 0.09693505 0.09272683 0.0936755  0.08988081 0.09567015\n",
            " 0.09664315 0.09584043 0.0938701  0.09362685 0.08871321 0.09134031\n",
            " 0.07993189 0.08054001 0.08452931 0.08567259 0.07749939 0.07521284\n",
            " 0.0675748  0.0729263  0.07895889 0.07608854 0.0726344  0.0722452\n",
            " 0.07861834 0.07404524 0.07810752 0.07762102 0.07749939 0.07368037\n",
            " 0.0720506  0.07124787 0.07314522 0.06944782 0.07516419 0.07518852\n",
            " 0.07723182 0.07818049 0.07569934 0.07871564 0.08632936 0.08428606\n",
            " 0.08552664 0.08951593 0.08628071 0.09075651 0.0948431  0.094162\n",
            " 0.09345658 0.09272683 0.0967891  0.09528329 0.09608974 0.0967517\n",
            " 0.09731478 0.09782172 0.09830476 0.09878512 0.09927532 0.09978181\n",
            " 0.10030741 0.10085271 0.10141696 0.10199892 0.10259672 0.1032084\n",
            " 0.10383177 0.10446463 0.10510483 0.1057503  0.10639917 0.10704979\n",
            " 0.10770062 0.10835057 0.10899857 0.10964396]\n",
            "25 day output [[0.11028627]]\n",
            "26 day input [0.07054245 0.07438579 0.07241547 0.062126   0.06081245 0.06908295\n",
            " 0.06701532 0.0610557  0.06227195 0.0637801  0.06421795 0.06059353\n",
            " 0.06606665 0.06813427 0.07518852 0.07594259 0.08005351 0.08603746\n",
            " 0.09244709 0.08817806 0.09593773 0.09009973 0.096108   0.09528095\n",
            " 0.09693505 0.09272683 0.0936755  0.08988081 0.09567015 0.09664315\n",
            " 0.09584043 0.0938701  0.09362685 0.08871321 0.09134031 0.07993189\n",
            " 0.08054001 0.08452931 0.08567259 0.07749939 0.07521284 0.0675748\n",
            " 0.0729263  0.07895889 0.07608854 0.0726344  0.0722452  0.07861834\n",
            " 0.07404524 0.07810752 0.07762102 0.07749939 0.07368037 0.0720506\n",
            " 0.07124787 0.07314522 0.06944782 0.07516419 0.07518852 0.07723182\n",
            " 0.07818049 0.07569934 0.07871564 0.08632936 0.08428606 0.08552664\n",
            " 0.08951593 0.08628071 0.09075651 0.0948431  0.094162   0.09345658\n",
            " 0.09272683 0.0967891  0.09528329 0.09608974 0.0967517  0.09731478\n",
            " 0.09782172 0.09830476 0.09878512 0.09927532 0.09978181 0.10030741\n",
            " 0.10085271 0.10141696 0.10199892 0.10259672 0.1032084  0.10383177\n",
            " 0.10446463 0.10510483 0.1057503  0.10639917 0.10704979 0.10770062\n",
            " 0.10835057 0.10899857 0.10964396 0.11028627]\n",
            "26 day output [[0.1109251]]\n",
            "27 day input [0.07438579 0.07241547 0.062126   0.06081245 0.06908295 0.06701532\n",
            " 0.0610557  0.06227195 0.0637801  0.06421795 0.06059353 0.06606665\n",
            " 0.06813427 0.07518852 0.07594259 0.08005351 0.08603746 0.09244709\n",
            " 0.08817806 0.09593773 0.09009973 0.096108   0.09528095 0.09693505\n",
            " 0.09272683 0.0936755  0.08988081 0.09567015 0.09664315 0.09584043\n",
            " 0.0938701  0.09362685 0.08871321 0.09134031 0.07993189 0.08054001\n",
            " 0.08452931 0.08567259 0.07749939 0.07521284 0.0675748  0.0729263\n",
            " 0.07895889 0.07608854 0.0726344  0.0722452  0.07861834 0.07404524\n",
            " 0.07810752 0.07762102 0.07749939 0.07368037 0.0720506  0.07124787\n",
            " 0.07314522 0.06944782 0.07516419 0.07518852 0.07723182 0.07818049\n",
            " 0.07569934 0.07871564 0.08632936 0.08428606 0.08552664 0.08951593\n",
            " 0.08628071 0.09075651 0.0948431  0.094162   0.09345658 0.09272683\n",
            " 0.0967891  0.09528329 0.09608974 0.0967517  0.09731478 0.09782172\n",
            " 0.09830476 0.09878512 0.09927532 0.09978181 0.10030741 0.10085271\n",
            " 0.10141696 0.10199892 0.10259672 0.1032084  0.10383177 0.10446463\n",
            " 0.10510483 0.1057503  0.10639917 0.10704979 0.10770062 0.10835057\n",
            " 0.10899857 0.10964396 0.11028627 0.1109251 ]\n",
            "27 day output [[0.11156035]]\n",
            "28 day input [0.07241547 0.062126   0.06081245 0.06908295 0.06701532 0.0610557\n",
            " 0.06227195 0.0637801  0.06421795 0.06059353 0.06606665 0.06813427\n",
            " 0.07518852 0.07594259 0.08005351 0.08603746 0.09244709 0.08817806\n",
            " 0.09593773 0.09009973 0.096108   0.09528095 0.09693505 0.09272683\n",
            " 0.0936755  0.08988081 0.09567015 0.09664315 0.09584043 0.0938701\n",
            " 0.09362685 0.08871321 0.09134031 0.07993189 0.08054001 0.08452931\n",
            " 0.08567259 0.07749939 0.07521284 0.0675748  0.0729263  0.07895889\n",
            " 0.07608854 0.0726344  0.0722452  0.07861834 0.07404524 0.07810752\n",
            " 0.07762102 0.07749939 0.07368037 0.0720506  0.07124787 0.07314522\n",
            " 0.06944782 0.07516419 0.07518852 0.07723182 0.07818049 0.07569934\n",
            " 0.07871564 0.08632936 0.08428606 0.08552664 0.08951593 0.08628071\n",
            " 0.09075651 0.0948431  0.094162   0.09345658 0.09272683 0.0967891\n",
            " 0.09528329 0.09608974 0.0967517  0.09731478 0.09782172 0.09830476\n",
            " 0.09878512 0.09927532 0.09978181 0.10030741 0.10085271 0.10141696\n",
            " 0.10199892 0.10259672 0.1032084  0.10383177 0.10446463 0.10510483\n",
            " 0.1057503  0.10639917 0.10704979 0.10770062 0.10835057 0.10899857\n",
            " 0.10964396 0.11028627 0.1109251  0.11156035]\n",
            "28 day output [[0.112192]]\n",
            "29 day input [0.062126   0.06081245 0.06908295 0.06701532 0.0610557  0.06227195\n",
            " 0.0637801  0.06421795 0.06059353 0.06606665 0.06813427 0.07518852\n",
            " 0.07594259 0.08005351 0.08603746 0.09244709 0.08817806 0.09593773\n",
            " 0.09009973 0.096108   0.09528095 0.09693505 0.09272683 0.0936755\n",
            " 0.08988081 0.09567015 0.09664315 0.09584043 0.0938701  0.09362685\n",
            " 0.08871321 0.09134031 0.07993189 0.08054001 0.08452931 0.08567259\n",
            " 0.07749939 0.07521284 0.0675748  0.0729263  0.07895889 0.07608854\n",
            " 0.0726344  0.0722452  0.07861834 0.07404524 0.07810752 0.07762102\n",
            " 0.07749939 0.07368037 0.0720506  0.07124787 0.07314522 0.06944782\n",
            " 0.07516419 0.07518852 0.07723182 0.07818049 0.07569934 0.07871564\n",
            " 0.08632936 0.08428606 0.08552664 0.08951593 0.08628071 0.09075651\n",
            " 0.0948431  0.094162   0.09345658 0.09272683 0.0967891  0.09528329\n",
            " 0.09608974 0.0967517  0.09731478 0.09782172 0.09830476 0.09878512\n",
            " 0.09927532 0.09978181 0.10030741 0.10085271 0.10141696 0.10199892\n",
            " 0.10259672 0.1032084  0.10383177 0.10446463 0.10510483 0.1057503\n",
            " 0.10639917 0.10704979 0.10770062 0.10835057 0.10899857 0.10964396\n",
            " 0.11028627 0.1109251  0.11156035 0.112192  ]\n",
            "29 day output [[0.11282016]]\n",
            "[[0.09528329223394394], [0.09608973562717438], [0.09675169736146927], [0.09731478244066238], [0.09782171994447708], [0.09830476343631744], [0.09878511726856232], [0.09927532076835632], [0.0997818112373352], [0.1003074124455452], [0.10085270553827286], [0.10141696035861969], [0.10199891775846481], [0.1025967225432396], [0.10320840030908585], [0.10383176803588867], [0.10446462780237198], [0.10510483384132385], [0.10575029999017715], [0.10639917105436325], [0.10704979300498962], [0.10770061612129211], [0.10835056751966476], [0.10899857431650162], [0.10964395850896835], [0.11028626561164856], [0.1109251007437706], [0.11156035214662552], [0.11219200491905212], [0.11282016336917877]]\n"
          ],
          "name": "stdout"
        }
      ]
    },
    {
      "cell_type": "code",
      "metadata": {
        "id": "cfKPrq4uiKP-"
      },
      "source": [
        "day_new=np.arange(1,101)\n",
        "day_pred=np.arange(101,131)"
      ],
      "execution_count": 40,
      "outputs": []
    },
    {
      "cell_type": "code",
      "metadata": {
        "id": "JF_X1BboiKNq"
      },
      "source": [
        "import matplotlib.pyplot as plt"
      ],
      "execution_count": 41,
      "outputs": []
    },
    {
      "cell_type": "code",
      "metadata": {
        "colab": {
          "base_uri": "https://localhost:8080/"
        },
        "id": "8mk9qnS9iKKK",
        "outputId": "549ea66e-69d4-4ae3-cb30-a0f1d07f257a"
      },
      "source": [
        "len(df1)"
      ],
      "execution_count": 42,
      "outputs": [
        {
          "output_type": "execute_result",
          "data": {
            "text/plain": [
              "1257"
            ]
          },
          "metadata": {
            "tags": []
          },
          "execution_count": 42
        }
      ]
    },
    {
      "cell_type": "code",
      "metadata": {
        "colab": {
          "base_uri": "https://localhost:8080/",
          "height": 282
        },
        "id": "hsjCXh-MiKFT",
        "outputId": "fa8b2446-1833-4505-9845-7b5c10650a87"
      },
      "source": [
        "plt.plot(day_new,scaler.inverse_transform(df1[1157:]))\n",
        "plt.plot(day_pred,scaler.inverse_transform(lst_output))"
      ],
      "execution_count": 44,
      "outputs": [
        {
          "output_type": "execute_result",
          "data": {
            "text/plain": [
              "[<matplotlib.lines.Line2D at 0x7f9f33e63c50>]"
            ]
          },
          "metadata": {
            "tags": []
          },
          "execution_count": 44
        },
        {
          "output_type": "display_data",
          "data": {
            "image/png": "[encoded data removed]",
            "text/plain": [
              "<Figure size 432x288 with 1 Axes>"
            ]
          },
          "metadata": {
            "tags": [],
            "needs_background": "light"
          }
        }
      ]
    },
    {
      "cell_type": "code",
      "metadata": {
        "colab": {
          "base_uri": "https://localhost:8080/",
          "height": 282
        },
        "id": "wKQf3fKJiJ7t",
        "outputId": "d279b785-9151-4631-f96e-e020813d24e2"
      },
      "source": [
        "df3=df1.tolist()\n",
        "df3.extend(lst_output)\n",
        "plt.plot(df3)"
      ],
      "execution_count": 82,
      "outputs": [
        {
          "output_type": "execute_result",
          "data": {
            "text/plain": [
              "[<matplotlib.lines.Line2D at 0x7f9f3021e390>]"
            ]
          },
          "metadata": {
            "tags": []
          },
          "execution_count": 82
        },
        {
          "output_type": "display_data",
          "data": {
            "image/png": "[encoded data removed]",
            "text/plain": [
              "<Figure size 432x288 with 1 Axes>"
            ]
          },
          "metadata": {
            "tags": [],
            "needs_background": "light"
          }
        }
      ]
    },
    {
      "cell_type": "code",
      "metadata": {
        "id": "Kzua4NBbiUrz"
      },
      "source": [
        "df3=scaler.inverse_transform(df3).tolist()"
      ],
      "execution_count": null,
      "outputs": []
    },
    {
      "cell_type": "code",
      "metadata": {
        "colab": {
          "base_uri": "https://localhost:8080/",
          "height": 282
        },
        "id": "Xys-yjRziUpN",
        "outputId": "0c0861b5-97ea-4899-ab9b-5079d90e7170"
      },
      "source": [
        "plt.plot(df3)"
      ],
      "execution_count": 46,
      "outputs": [
        {
          "output_type": "execute_result",
          "data": {
            "text/plain": [
              "[<matplotlib.lines.Line2D at 0x7f9f33b50c50>]"
            ]
          },
          "metadata": {
            "tags": []
          },
          "execution_count": 46
        },
        {
          "output_type": "display_data",
          "data": {
            "image/png": "[encoded data removed]",
            "text/plain": [
              "<Figure size 432x288 with 1 Axes>"
            ]
          },
          "metadata": {
            "tags": [],
            "needs_background": "light"
          }
        }
      ]
    },
    {
      "cell_type": "code",
      "metadata": {
        "id": "PZJ0rNxOiUmh"
      },
      "source": [
        ""
      ],
      "execution_count": null,
      "outputs": []
    },
    {
      "cell_type": "code",
      "metadata": {
        "id": "ff5chiwIiUjs"
      },
      "source": [
        ""
      ],
      "execution_count": null,
      "outputs": []
    },
    {
      "cell_type": "code",
      "metadata": {
        "id": "2C2EZDL3iUhT"
      },
      "source": [
        ""
      ],
      "execution_count": null,
      "outputs": []
    },
    {
      "cell_type": "code",
      "metadata": {
        "id": "Gqdf1tUqiUem"
      },
      "source": [
        ""
      ],
      "execution_count": null,
      "outputs": []
    },
    {
      "cell_type": "code",
      "metadata": {
        "id": "i3lt1-JtiUby"
      },
      "source": [
        ""
      ],
      "execution_count": null,
      "outputs": []
    },
    {
      "cell_type": "code",
      "metadata": {
        "id": "in0V77a3iUZI"
      },
      "source": [
        ""
      ],
      "execution_count": null,
      "outputs": []
    }
  ]
}